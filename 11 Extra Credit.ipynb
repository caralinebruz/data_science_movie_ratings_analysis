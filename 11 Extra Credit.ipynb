{
 "cells": [
  {
   "cell_type": "code",
   "execution_count": 1,
   "id": "24770d55",
   "metadata": {},
   "outputs": [],
   "source": [
    "#!/usr/bin/env python3\n",
    "# -*- coding: utf-8 -*-\n",
    "\n",
    "# ### Analysis Project \n",
    "# \n",
    "# ### 2022-11-2\n",
    "\n",
    "# ### Statistical significance tests on movie ratings data\n",
    "                    \n",
    "# We acknowledge any outcome could be due to\n",
    "# chance. Our only question is how likely that is by chance. If it is\n",
    "# implausibly unlikely, we reject the assumption that it was just due to\n",
    "# chance. And either the null hypothesis is true or not, so if we reject it\n",
    "# is plausible, it probably means that our treatment did have an effect.                  \n",
    "                    \n",
    "#%% Before we do the stats, let's talk about the psychology of movie ratings:\n",
    "    \n",
    "# Hypothesis 1: There is no difference in the distribution of ratings between the two movies.\n",
    "\n",
    "# Hypothesis 2: Distribution of ratings for one of the movies will be different from the other.\n",
    "\n",
    "# Make sure that you actually have 2 plausible outcomes before doing the\n",
    "# study. If the outcome is a foregone conclusion, it's not science. Science\n",
    "# is about being open to any possible outcome.\n",
    "\n",
    "# Null hypothesis: There is no difference. \n",
    "\n",
    "# Let's implement the canonical data analysis cascade\n",
    "\n",
    "\n",
    "\n",
    "# b. Load/import - libraries/packages:\n",
    "\n",
    "import pandas as pd\n",
    "import numpy as np\n",
    "from scipy import stats, special\n",
    "import matplotlib.pyplot as plt\n",
    "import seaborn as sns\n"
   ]
  },
  {
   "cell_type": "markdown",
   "id": "88bf510d",
   "metadata": {},
   "source": [
    "# Let me walk you through the null hypothesistesting framework at least once (just once). It is a bit arcane. It madesense to Fisher.         \n",
    "\n",
    "### 1) Start with a hypothesis (something about the world you would wish toknow, whether it is true or not). \n",
    "\n",
    "### 2) State a null hypothesis and assume that it is 100% true (that there is no difference in the conditions of 1), e.g. here Matrix I rated the sameas Matrix II and III). This is essential to NHST. \n",
    "\n",
    "### 3) This is - at the face of it - an odd thing to do, because naively you would think that scientists look for probability (Hypothesis | Data) But that is unknowable. Which is why we do the study in the first place. What is calculable: Probability (Data | NULL hypothesis)You can assess the probability of the data given the null hypothesis\n",
    "\n",
    "### 4) To get this probability, we represent the sample by a parameter like a sample mean, then transform the sample mean into a test statistic with a known distribution.\n",
    "\n",
    "### 5) The area under the curve of the distribution of the test statistic in the tail (or tails, if it is a 2-tailed test) is the p value, in otherwords the probability of this result (or a more extreme one) given chancealone.\n",
    "\n",
    "### 6) We compare the p value to a significance level alpha (typically 5% or 1%)\n",
    "\n",
    "### 7) Decision point (Choice)\n",
    "### a) If it is smaller than that, we decide to reject our assumption that the null hypothesis is true.\n",
    "### b) If it is not smaller than that, we don't do anything because we alreadyassumed that the null hypothesis is true.                    "
   ]
  },
  {
   "cell_type": "code",
   "execution_count": 2,
   "id": "926ae2b5",
   "metadata": {
    "scrolled": true
   },
   "outputs": [
    {
     "name": "stdout",
     "output_type": "stream",
     "text": [
      "The Life of David Gale (2003) = 1021\n",
      "Wing Commander (1999) = 1026\n",
      "Django Unchained (2012) = 644\n",
      "Alien (1979) = 808\n",
      "Indiana Jones and the Last Crusade (1989) = 634\n",
      "Snatch (2000) = 969\n",
      "Rambo: First Blood Part II (1985) = 915\n",
      "Fargo (1996) = 843\n",
      "Let the Right One In (2008) = 960\n",
      "Black Swan (2010) = 509\n",
      "King Kong (1976) = 693\n",
      "The Machinist (2004) = 950\n",
      "A Nightmare on Elm Street (1984) = 697\n",
      "Brazil (1985) = 1006\n",
      "The Fast and the Furious (2001) = 525\n",
      "Change of Habit (1969) = 1021\n",
      "American Beauty (1999) = 713\n",
      "Psycho (1960) = 740\n",
      "Terminator 3: Rise of the Machines (2003) = 727\n",
      "Night of the Living Dead (1968) = 910\n",
      "Man on Fire (2004) = 957\n",
      "Star Wars: Episode IV - A New Hope (1977) = 551\n",
      "The Silence of the Lambs (1991) = 588\n",
      "The Others (2001) = 946\n",
      "Minority Report (2002) = 892\n",
      "Sling Blade (1996) = 1010\n",
      "Schindler's List (1993) = 632\n",
      "3000 Miles to Graceland (2001) = 1020\n",
      "Magnolia (1999) = 960\n",
      "The Karate Kid Part II (1986) = 736\n",
      "Planet of the Apes (2001) = 619\n",
      "The Godfather: Part II (1974) = 760\n",
      "Indiana Jones and the Temple of Doom (1984) = 616\n",
      "Indiana Jones and the Raiders of the Lost Ark (1981) = 752\n",
      "The Iron Giant (1999) = 740\n",
      "The Matrix Revolutions (2003) = 723\n",
      "North (1994) = 1019\n",
      "The Lost World: Jurassic Park (1997) = 531\n",
      "The Texas Chainsaw Massacre (1974) = 778\n",
      "Taxi Driver (1976) = 861\n",
      "Back to the Future (1985) = 441\n",
      "13 Going on 30 (2004) = 436\n",
      "Sorority Boys (2002) = 1017\n",
      "The Bridges of Madison County (1995) = 1002\n",
      "Billy Madison (1995) = 821\n",
      "Chain Reaction (1996) = 1015\n",
      "Batman & Robin (1997) = 756\n",
      "Jurassic Park III (2001) = 565\n",
      "Platoon (1986) = 980\n",
      "Signs (2002) = 908\n",
      "Terms of Endearment (1983) = 973\n",
      "Mission: Impossible II (2000) = 622\n",
      "Lost in Translation (2003) = 836\n",
      "Star Trek: The Motion Picture (1979) = 831\n",
      "Inglorious Bastards (2009) = 658\n",
      "Clueless (1995) = 452\n",
      "The Omen (1976) = 913\n",
      "Shrek 2 (2004) = 132\n",
      "Good Will Hunting (1997) = 581\n",
      "Just Like Heaven (2005) = 945\n",
      "Showgirls (1995) = 981\n",
      "Diamonds are Forever (1971) = 970\n",
      "Crossroads (2002) = 968\n",
      "Pieces of April (2003) = 1021\n",
      "Torque (2004) = 1017\n",
      "Poltergeist (1982) = 861\n",
      "Fear and Loathing in Las Vegas (1998) = 978\n",
      "Barbarella (1968) = 1007\n",
      "The King of Marvin Gardens (1972) = 1031\n",
      "The Poseidon Adventure (1972) = 995\n",
      "The Rock (1996) = 968\n",
      "Love Story (1970) = 984\n",
      "The Last Samurai (2003) = 814\n",
      "The Jungle Book (1967) = 409\n",
      "The Exorcist (1973) = 669\n",
      "Pirates of the Caribbean: Dead Man's Chest (2006) = 284\n",
      "Gone in Sixty Seconds (2000) = 973\n",
      "Funny Girl (1968) = 956\n",
      "Honey (2003) = 909\n",
      "Blues Brothers 2000 (1998) = 952\n",
      "Avatar (2009) = 189\n",
      "The Pianist (2002) = 789\n",
      "Godzilla (1998) = 749\n",
      "Fight Club (1999) = 606\n",
      "The Conjuring (2013) = 528\n",
      "Top Gun (1986) = 836\n",
      "Slackers (2002) = 1018\n",
      "Shrek (2001) = 89\n",
      "12 Monkeys (1995) = 961\n",
      "From Hell (2001) = 1009\n",
      "Dead Poets Society (1989) = 612\n",
      "Once Upon a Time in America (1984) = 1003\n",
      "Equilibrium (2002) = 984\n",
      "Star Wars: Episode II - Attack of the Clones (2002) = 564\n",
      "The Thing (1982) = 936\n",
      "Interstellar (2014) = 488\n",
      "Full Metal Jacket (1987) = 912\n",
      "Big Fish (2003) = 861\n",
      "Cool Hand Luke (1967) = 1007\n",
      "A Beautiful Mind (2001) = 686\n",
      "Sholay (1978) = 1012\n",
      "The 51st State (2001) = 1031\n",
      "Die Hard With a Vengeance (1995) = 957\n",
      "Elf (2003) = 314\n",
      "The Blue Lagoon (1980) = 928\n",
      "Hellraiser (1987) = 1004\n",
      "Moonraker (1979) = 1019\n",
      "Leon (1994) = 971\n",
      "Mystic River (2003) = 1008\n",
      "Sexy Beast (2000) = 1041\n",
      "Beetle Juice (1988) = 742\n",
      "Andaz Apna Apna (1994) = 1024\n",
      "The Proposal (2009) = 491\n",
      "The Shining (1980) = 642\n",
      "The Land That Time Forgot (1974) = 1001\n",
      "The Perfect Storm (2000) = 954\n",
      "Escape from LA (1996) = 1023\n",
      "Shutter Island (2010) = 669\n",
      "JFK (1991) = 1008\n",
      "Barb Wire (1996) = 1037\n",
      "Oldboy (2003) = 953\n",
      "Carrie (1976) = 770\n",
      "The Good the Bad and the Ugly (1966) = 916\n",
      "Speed 2: Cruise Control (1997) = 1009\n",
      "The Lord of the Rings: The Fellowship of the Ring (2001) = 582\n",
      "The Talented Mr. Ripley (1999) = 948\n",
      "Casino (1995) = 994\n",
      "A Time to Kill (1996) = 1009\n",
      "Blazing Saddles (1974) = 979\n",
      "The Doom Generation (1995) = 1036\n",
      "Armageddon (1998) = 924\n",
      "X-Men (2000) = 536\n",
      "Arachnophobia (1990) = 993\n",
      "Stir Crazy (1980) = 1038\n",
      "Billy Jack (1971) = 1037\n",
      "The Silencers (1966) = 1032\n",
      "The Three Musketeers (1993) = 920\n",
      "Girl Interrupted (1999) = 867\n",
      "Finding Nemo (2003) = 83\n",
      "Tropic of Cancer (1970) = 1028\n",
      "The Sixth Sense (1999) = 704\n",
      "I Know What You Did Last Summer (1997) = 873\n",
      "Indiana Jones and the Kingdom of the Crystal Skull (2008) = 639\n",
      "Divine Secrets of the Ya-Ya Sisterhood (2002) = 1015\n",
      "Ace Ventura: When Nature Calls (1995) = 862\n",
      "Dances with Wolves (1990) = 959\n",
      "Date and Switch (2014) = 1026\n",
      "The Intouchables (2011) = 875\n",
      "Mrs. Doubtfire (1993) = 561\n",
      "Ghostbusters (2016) = 698\n",
      "Almost Famous (2000) = 882\n",
      "Blade Runner (1982) = 871\n",
      "Unforgiven (1992) = 1008\n",
      "Rosemary's Baby (1968) = 938\n",
      "Cheaper by the Dozen (2003) = 411\n",
      "Can't Hardly Wait (1998) = 1001\n",
      "Die Another Day (2002) = 942\n",
      "Toy Story 2 (1999) = 183\n",
      "Transformers: Age of Extinction (2014) = 589\n",
      "Like Stars on Earth (2007) = 1022\n",
      "Terminator 2: Judgement Day (1991) = 789\n",
      "25th Hour (2002) = 1012\n",
      "Who's Afraid of Virginia Woolf (1966) = 974\n",
      "Adaption (2002) = 1008\n",
      "Life is Beautiful (1997) = 876\n",
      "Room (2015) = 796\n",
      "Scream (1996) = 741\n",
      "The Evil Dead (1981) = 959\n",
      "Gangs of New York (2002) = 932\n",
      "Stand By Me (1986) = 874\n",
      "The Vow (2012) = 647\n",
      "Toy Story 3 (2010) = 226\n",
      "The Matrix Reloaded (2003) = 761\n",
      "Once Upon a Time in the West (1968) = 1017\n",
      "Star Wars: Episode V - The Empire Strikes Back (1980) = 608\n",
      "War Games (1983) = 989\n",
      "Kill Bill: Vol. 2 (2004) = 742\n",
      "Saving Private Ryan (1998) = 664\n",
      "Just Married (2003) = 924\n",
      "Being John Malkovich (1999) = 954\n",
      "Father's Day (1997) = 1026\n",
      "Batman (1989) = 715\n",
      "Se7en (1995) = 854\n",
      "Happy Gilmore (1996) = 789\n",
      "My Big Fat Greek Wedding (2002) = 592\n",
      "Boomerang (1992) = 1027\n",
      "The Avengers (2012) = 334\n",
      "In America (2002) = 1025\n",
      "Tarzan (1999) = 334\n",
      "Scent of a Woman (1992) = 987\n",
      "The Cabin in the Woods (2012) = 681\n",
      "Spider-Man (2002) = 259\n",
      "Broken Arrow (1996) = 1027\n",
      "Baby Geniuses (1999) = 950\n",
      "Battlefield Earth (2000) = 1023\n",
      "The Firm (1993) = 1020\n",
      "De-Lovely (2004) = 1035\n",
      "Die Hard (1988) = 803\n",
      "The Lord of the Rings: The Two Towers (2002) = 604\n",
      "The Blair Witch Project (1999) = 796\n",
      "Judge Dredd (1995) = 1012\n",
      "10 Things I Hate About You (1999) = 553\n",
      "The Insider (1999) = 1000\n",
      "Erik the Viking (1989) = 1035\n",
      "Pirates of the Caribbean: At World's End (2007) = 439\n",
      "The Ring (2002) = 722\n",
      "The Truman Show (1998) = 717\n",
      "Forrest Gump (1994) = 311\n",
      "I.Q. (1994) = 1029\n",
      "Goodfellas (1990) = 878\n",
      "Uptown Girls (2003) = 848\n",
      "Beauty and the Beauty (1991) = 597\n",
      "Black Hawk Down (2001) = 927\n",
      "Knight and Day (2010) = 900\n",
      "The Shawshank Redemption (1994) = 705\n",
      "Sleepy Hollow (1999) = 935\n",
      "The Holiday (2006) = 830\n",
      "Sixteen Candles (1984) = 629\n",
      "10000 BC (2008) = 921\n",
      "Austin Powers: The Spy Who Shagged Me (1999) = 697\n",
      "The Lion King (1994) = 160\n",
      "Child's Play (1988) = 935\n",
      "Anger Management (2002) = 891\n",
      "Angels in the Outfield (1994) = 876\n",
      "Wild Wild West (1999) = 997\n",
      "Split (2016) = 798\n",
      "Bad Boys (1995) = 923\n",
      "The Prestige (2006) = 885\n",
      "American Graffiti (1973) = 1011\n",
      "Air Force One (1997) = 952\n",
      "Harry Potter and the Sorcerer's Stone (2001) = 227\n",
      "Close Encounters of the Third Kind (1977) = 986\n",
      "Hollow Man (2000) = 1011\n",
      "Point Break (1991) = 994\n",
      "I Robot (2004) = 693\n",
      "Batman: The Dark Knight (2008) = 371\n",
      "Ghost (1990) = 905\n",
      "A Bug's Life (1998) = 356\n",
      "American Pie (1999) = 650\n",
      "Daredevil (2003) = 893\n",
      "The Bandit (1996) = 1030\n",
      "Grease (1978) = 445\n",
      "The Girl Next Door (2004) = 925\n",
      "The Godfather (1972) = 699\n",
      "Cloverfield (2008) = 877\n",
      "Rush Hour 2 (2001) = 662\n",
      "Bruce Almighty (2003) = 562\n",
      "Girl With a Pearl Earring (2003) = 970\n",
      "Grown Ups 2 (2013) = 637\n",
      "Best Laid Plans (1999) = 1043\n",
      "Bram Stoker's Dracula (1992) = 988\n",
      "Fahrenheit 9/11 (2004) = 956\n",
      "Donnie Darko (2001) = 851\n",
      "Bad Teacher (2011) = 635\n",
      "Cable Guy (1996) = 997\n",
      "Ice Age (2002) = 217\n",
      "Misery (1990) = 959\n",
      "8 Mile (2002) = 764\n",
      "Harry Potter and the Deathly Hallows: Part 2 (2011) = 267\n",
      "Ouija: Origin of Evil (2016) = 900\n",
      "The Deer Hunter (1978) = 1017\n",
      "There's Something About Mary (1998) = 895\n",
      "Zoolander (2001) = 620\n",
      "The Core (2003) = 1010\n",
      "Spirited Away (2001) = 555\n",
      "Rocky (1976) = 779\n",
      "Traffic (2000) = 1012\n",
      "Monsters  Inc.(2001) = 170\n",
      "Thoroughly Modern Millie (1967) = 995\n",
      "Requiem for a Dream (2000) = 885\n",
      "Downfall (2004) = 1025\n",
      "L.A. Confidential (1997) = 1016\n",
      "Chicago (2002) = 854\n",
      "Star Wars: Episode 1 - The Phantom Menace (1999) = 644\n",
      "Rain Man (1988) = 890\n",
      "What Lies Beneath (2000) = 1025\n",
      "Toy Story (1995) = 171\n",
      "Boy's Don't Cry (1999) = 990\n",
      "Pearl Harbor (2001) = 830\n",
      "A.I. Artificial Intelligence (2001) = 952\n",
      "The Sting (1973) = 1002\n",
      "Scream 3 (2000) = 856\n",
      "Congo (1995) = 1028\n",
      "Bowling For Columbine (2002) = 977\n",
      "What Women Want (2000) = 955\n",
      "Home Alone (1990) = 240\n",
      "How the Grinch Stole Christmas (2000) = 352\n",
      "The Straight Story (1999) = 1031\n",
      "The Hulk (2003) = 652\n",
      "Gigli (2002) = 1025\n",
      "Rocky V (1991) = 909\n",
      "The Visit (2015) = 901\n",
      "Titanic (1997) = 219\n",
      "A Clockwork Orange (1971) = 830\n",
      "Charlie's Angels (2000) = 694\n",
      "Friday the 13th Part III (1982) = 930\n",
      "Hannibal (2001) = 884\n",
      "Pulp Fiction (1994) = 610\n",
      "Crimson Tide (1995) = 1023\n",
      "Blow (2001) = 1003\n",
      "Ran (1985) = 1031\n",
      "Mulholland Dr. (2001) = 979\n",
      "Apocalypse Now (1979) = 929\n",
      "Cinema Paradiso (1988) = 996\n",
      "Double Jeopardy (1999) = 1002\n",
      "The Big Lebowski (1998) = 883\n",
      "The Matrix (1999) = 600\n",
      "The Lord of the Rings: The Return of the King (2003) = 664\n",
      "Reservoir Dogs (1992) = 894\n",
      "Heavy Traffic (1973) = 1034\n",
      "Memento (2000) = 865\n",
      "Dogville (2003) = 1022\n",
      "American Psycho (2000) = 772\n",
      "Kill Bill: Vol. 1 (2003) = 746\n",
      "The Fugitive (1993) = 992\n",
      "Bend it Like Beckham (2002) = 724\n",
      "Austin Powers in Goldmember (2002) = 763\n",
      "The Mummy Returns (2001) = 797\n",
      "The Nightmare Before Christmas (1993) = 536\n",
      "La La Land (2016) = 539\n",
      "Flowers in the Attic (1987) = 983\n",
      "28 Days Later (2002) = 919\n",
      "The Princess Bride (1987) = 596\n",
      "The Green Mile (1999) = 917\n",
      "Predator (1987) = 917\n",
      "A Night at the Roxbury (1998) = 992\n",
      "Ed Wood (1994) = 1029\n",
      "Aliens (1986) = 905\n",
      "Meet the Parents (2000) = 708\n",
      "Independence Day (1996) = 770\n",
      "Who Framed Roger Rabbit (1988) = 814\n",
      "As Good as it Gets (1997) = 1000\n",
      "Butch Cassidy and the Sundance Kid (1969) = 997\n",
      "You're Next (2011) = 983\n",
      "The Final Conflict (1981) = 1042\n",
      "City of God (2002) = 984\n",
      "Star Wars: Episode VII - The Force Awakens (2015) = 612\n",
      "The Transporter (2002) = 904\n",
      "Cast Away (2000) = 769\n",
      "Bad Boys 2 (2003) = 936\n",
      "The Babadook (2014) = 814\n",
      "Saw (2004) = 733\n",
      "Star Wars: Episode VI - The Return of the Jedi (1983) = 644\n",
      "Scary Movie (2000) = 784\n",
      "E.T. The Extra-Terrestrial (1982) = 511\n",
      "American History X (1998) = 973\n",
      "FeardotCom (2002) = 1041\n",
      "Halloween (1978) = 896\n",
      "Along Came a Spider (2002) = 1029\n",
      "The Mist (2007) = 929\n",
      "Aladdin (1992) = 287\n",
      "Pirates of the Caribbean: The Curse of the Black Pearl (2003) = 426\n",
      "Men in Black (1997) = 536\n",
      "Eternal Sunshine of the Spotless Mind (2004) = 799\n",
      "Ocean's Eleven (2001) = 741\n",
      "Men in Black II (2002) = 603\n",
      "Cocktail (1988) = 1037\n",
      "The Wolf of Wall Street (2013) = 430\n",
      "The Game (1997) = 1013\n",
      "Red Sonja (1985) = 1038\n",
      "One Flew Over the Cuckoo's Nest (1975) = 830\n",
      "Freddy Got Fingered (2001) = 1033\n",
      "The Village (2004) = 978\n",
      "Miller's Crossing (1990) = 1032\n",
      "My Best Friend's Wedding (1997) = 895\n",
      "Iron Man 3 (2013) = 515\n",
      "Big Daddy (1999) = 864\n",
      "Suspiria (1977) = 1032\n",
      "The Passenger (1975) = 1001\n",
      "The Station Agent (2003) = 1033\n",
      "Jurassic Park (1993) = 498\n",
      "Captain America: Civil War (2016) = 559\n",
      "A Perfect Murder (1998) = 1015\n",
      "Analyze That (2002) = 1020\n",
      "Braveheart (1995) = 890\n",
      "Inception (2010) = 381\n",
      "Groundhog Day (1993) = 810\n",
      "The Lookout (2007) = 1037\n",
      "21 Grams (2003) = 1030\n",
      "Gladiator (2000) = 797\n",
      "Midnight Cowboy (1969) = 1021\n",
      "Fatal Attraction (1987) = 974\n",
      "House of Sand and Fog (2003) = 1032\n",
      "On Golden Pond (1981) = 1034\n",
      "The Mummy (1999) = 731\n",
      "The Descent (2005) = 984\n",
      "Runaway Bride (1999) = 954\n",
      "Harry Potter and the Goblet of Fire (2005) = 283\n",
      "Gods and Generals (2003) = 1034\n",
      "My Father and My Son (2005) = 1031\n",
      "X-Men 2 (2003) = 649\n",
      "The Usual Suspects (1995) = 904\n",
      "The Mask (1994) = 699\n",
      "Jaws (1975) = 601\n",
      "Harry Potter and the Chamber of Secrets (2002) = 251\n",
      "Patton (1970) = 1036\n",
      "Anaconda (1997) = 899\n",
      "Twister (1996) = 923\n",
      "MacArthur (1977) = 1036\n",
      "Look Who's Talking (1989) = 989\n",
      "I enjoy driving fast = 3\n",
      "I enjoy rollercoasters  = 4\n",
      "Have you ever bungee-jumped? = 5\n",
      "I enjoy impulse shopping = 6\n",
      "I sometimes go out on weeknights even if I have work to do = 3\n",
      "I enjoy doing things without too much planning  = 3\n",
      "Have you ever been rock climbing? = 3\n",
      "I enjoy being in large loud crowds like the Times Square Ball Drop on New Years Eve = 6\n",
      "I enjoy going to large music or dance festivals  = 3\n",
      "I enjoy watching horror movies = 5\n",
      "No risk - No fun = 4\n",
      "I like to be surprised even if it startles or scares me = 3\n",
      "Have you ever parachuted? = 5\n",
      "I enjoy haunted houses = 3\n",
      "I had a sheltered upbringing = 3\n",
      "My life is very stressful = 3\n",
      "I value my life to be well ordered and predictable = 4\n",
      "Have you ridden a motorcycle? = 7\n",
      "Have you gambled or bet for money? = 4\n",
      "Have you ever been sky-diving? = 6\n",
      "Is talkative = 12\n",
      "Tends to find fault with others = 15\n",
      "Does a thorough job = 18\n",
      "Is depressed/Blue = 14\n",
      "Is original/comes up with new ideas = 17\n",
      "Is reserved = 16\n",
      "Is helpful and unselfish with others = 17\n",
      "Can be somewhat careless = 12\n",
      "Is relaxed/handles stress well = 17\n",
      "Is curious about many different things = 14\n",
      "Is full of energy = 13\n",
      "Starts quarrels with others = 12\n",
      "Is a reliable worker = 18\n",
      "Can be tense = 16\n",
      "Is ingenious/a deep thinker = 16\n",
      "Generates a lot of Enthusiasm = 12\n",
      "Has a forgiving nature = 13\n",
      "Tends to be disorganized = 13\n",
      "Worries a lot = 13\n",
      "Has an active imagination = 13\n",
      "Tends to be quiet = 14\n",
      "Is generally trusting = 12\n",
      "Tends to be lazy = 17\n",
      "Is emotionally stable/not easily upset = 13\n",
      "is inventive = 13\n",
      "Has an assertive personality = 14\n",
      "Can be cold and aloof = 13\n",
      "Perseveres until the task is finished = 16\n",
      "Can be moody = 15\n",
      "Values artistic/aesthetic experiences = 12\n",
      "Is sometimes shy/inhibited = 16\n",
      "Is considerate and kind to almost everyone = 14\n",
      "Does things efficiently = 14\n",
      "Remains calm in tense situations = 13\n",
      "Prefers work that is routine = 14\n",
      "is outgoing/sociable = 14\n",
      "Is sometimes rude to others = 13\n",
      "Makes plans and follows through with them = 13\n",
      "Gets nervous easily = 14\n",
      "Likes to reflect/play with ideas = 15\n",
      "Has few artistic interests = 14\n",
      "Likes to cooperate with others = 15\n",
      "Is easily distracted = 12\n",
      "Is sophisticated in art or music or literature = 15\n",
      "I have cried during a movie = 17\n",
      "I have trouble following the story of a movie = 22\n",
      "I have trouble remembering the story of a movie a couple of days after seeing it = 22\n",
      "When watching a movie I cheer or shout or talk or curse at the screen = 20\n",
      "When watching a movie I feel like the things on the screen are happening to me = 24\n",
      "As a movie unfolds I start to have problems keeping track of events that happened earlier = 19\n",
      "The emotions on the screen \"rub off\" on me - for instance if something sad is happening I get sad or if something frightening is happening I get scared = 22\n",
      "When watching a movie I get completely immersed in the alternative reality of the film = 23\n",
      "Movies change my position on social economic or political issues = 20\n",
      "When watching movies things get so intense that I have to stop watching = 18\n",
      "Gender identity (1 = female; 2 = male; 3 = self-described) = 24\n",
      "Are you an only child? (1: Yes; 0: No; -1: Did not respond) = 0\n",
      "Movies are best enjoyed alone (1: Yes; 0: No; -1: Did not respond) = 0\n"
     ]
    }
   ],
   "source": [
    "df = pd.read_csv('movieReplicationSet.csv')\n",
    "\n",
    "for col in df.columns:\n",
    "    \n",
    "    nulls = df[col].isnull().sum()\n",
    "    print(\"%s = %s\" % (col, nulls))\n",
    "    \n"
   ]
  },
  {
   "cell_type": "code",
   "execution_count": 3,
   "id": "794dbe18",
   "metadata": {},
   "outputs": [
    {
     "name": "stdout",
     "output_type": "stream",
     "text": [
      "Avatar (2009) = 2.827643171806167 = 1.070181262345433\n",
      "Elf (2003) = 3.0191570881226055 = 1.0702395002165317\n",
      "How the Grinch Stole Christmas (2000) = 2.880536912751678 = 1.0086106336252683\n",
      "I enjoy doing things without too much planning  = 3.0685557586837295 = 1.280388463932543\n",
      "Have you ever been rock climbing? = 2.9296160877513713 = 1.1177599964476315\n",
      "I enjoy watching horror movies = 3.0173992673992673 = 1.5826364821313965\n",
      "No risk - No fun = 2.8206770356816104 = 1.114692379826156\n",
      "I like to be surprised even if it startles or scares me = 3.169104204753199 = 1.199159404470084\n",
      "I enjoy haunted houses = 2.837294332723949 = 1.4833748986238149\n",
      "Tends to find fault with others = 3.142329020332717 = 1.0779435876853531\n",
      "Is relaxed/handles stress well = 2.914814814814815 = 1.1367004927245754\n",
      "Is emotionally stable/not easily upset = 3.07380073800738 = 1.148324059196798\n",
      "Has an assertive personality = 3.1403508771929824 = 1.1547005383792461\n",
      "Can be cold and aloof = 2.9649446494464944 = 1.1973608623933227\n",
      "When watching a movie I feel like the things on the screen are happening to me = 3.1006523765144456 = 1.4625708119533982\n"
     ]
    }
   ],
   "source": [
    "# now that you have the number of NANs per column, try to find the mean of each column. I would need a mean to be 3.\n",
    "\n",
    "for col in df.columns:\n",
    "\n",
    "    means = df[col].mean()\n",
    "    stdd = df[col].std()\n",
    "    nulls = df[col].isnull().sum()\n",
    "    if nulls < 400:\n",
    "        if means < 3.2:\n",
    "            if means > 2.8:\n",
    "                if stdd > 1.0:\n",
    "                    print(\"%s = %s = %s\" % (col, means, stdd))\n",
    "\n"
   ]
  },
  {
   "cell_type": "code",
   "execution_count": 4,
   "id": "feb0f686",
   "metadata": {},
   "outputs": [
    {
     "name": "stdout",
     "output_type": "stream",
     "text": [
      "I enjoy rollercoasters  = 3.756633119853614 = 1.4648708233817396\n",
      "I enjoy watching horror movies = 3.0173992673992673 = 1.5826364821313965\n",
      "I enjoy haunted houses = 2.837294332723949 = 1.4833748986238149\n",
      "When watching a movie I cheer or shout or talk or curse at the screen = 2.7632311977715878 = 1.499883500876152\n",
      "When watching a movie I feel like the things on the screen are happening to me = 3.1006523765144456 = 1.4625708119533982\n"
     ]
    }
   ],
   "source": [
    "# pick something that doesnt have a super awesome mean maybe but high std dev\n",
    "# now that you have the number of NANs per column, try to find the mean of each column. I would need a mean to be 3.\n",
    "\n",
    "for col in df.columns:\n",
    "\n",
    "    means = df[col].mean()\n",
    "    stdd = df[col].std()\n",
    "    nulls = df[col].isnull().sum()\n",
    "    if nulls < 400:\n",
    "        if means < 4:\n",
    "            if means > 2:\n",
    "                if stdd > 1.4:\n",
    "                    print(\"%s = %s = %s\" % (col, means, stdd))"
   ]
  },
  {
   "cell_type": "code",
   "execution_count": null,
   "id": "ba3be21e",
   "metadata": {},
   "outputs": [],
   "source": []
  },
  {
   "cell_type": "markdown",
   "id": "923dbdc7",
   "metadata": {},
   "source": [
    "## 1. Loader / Transducer: Taking the inputs from their native form and putting it into something Python can use: a matrix"
   ]
  },
  {
   "cell_type": "code",
   "execution_count": 5,
   "id": "f1ffd83f",
   "metadata": {},
   "outputs": [],
   "source": [
    "data_df = pd.read_csv('movieReplicationSet.csv')\n",
    "\n",
    "# lets try to see if people who are easily distracted rate inception lower than those who are not\n",
    "\n",
    "\n",
    "NOTME = data_df.loc[ (data_df['When watching a movie I feel like the things on the screen are happening to me'] == 2) | ((data_df['When watching a movie I feel like the things on the screen are happening to me'] == 1)), 'Elf (2003)']\n",
    "\n",
    "ME = data_df.loc[ (data_df['When watching a movie I feel like the things on the screen are happening to me'] == 4) | ((data_df['When watching a movie I feel like the things on the screen are happening to me'] == 5)), 'Elf (2003)']\n",
    "\n",
    "\n",
    "\n",
    "NOTME = pd.to_numeric(NOTME,errors='coerce').values\n",
    "ME = pd.to_numeric(ME,errors='coerce').values\n",
    "\n"
   ]
  },
  {
   "cell_type": "code",
   "execution_count": 6,
   "id": "71c05298",
   "metadata": {},
   "outputs": [
    {
     "data": {
      "text/plain": [
       "344"
      ]
     },
     "execution_count": 6,
     "metadata": {},
     "output_type": "execute_result"
    }
   ],
   "source": [
    "len(NOTME)"
   ]
  },
  {
   "cell_type": "code",
   "execution_count": 7,
   "id": "440d94c2",
   "metadata": {},
   "outputs": [
    {
     "data": {
      "text/plain": [
       "454"
      ]
     },
     "execution_count": 7,
     "metadata": {},
     "output_type": "execute_result"
    }
   ],
   "source": [
    "len(ME)"
   ]
  },
  {
   "cell_type": "markdown",
   "id": "9f948f61",
   "metadata": {},
   "source": [
    "## 2. \"Thalamus\" stage: We need to get rid of \"bad\" data. "
   ]
  },
  {
   "cell_type": "code",
   "execution_count": null,
   "id": "9e7a78c9",
   "metadata": {},
   "outputs": [],
   "source": []
  },
  {
   "cell_type": "markdown",
   "id": "02df8538",
   "metadata": {},
   "source": [
    "### This is not data we don't like the results of.  It's data that if it entered the analysis stream would ruin our analysis. By visual inspection, the matrix of movie ratings contains numbers from 1 to 4, representing \"star ratings\", and \"nans\".  What could the nans be? What do they mean? It could be people not doing the task. There are many ways to detect this. People who press buttons not in the instructions, people responding too fast, people responding too slow. "
   ]
  },
  {
   "cell_type": "markdown",
   "id": "68848e5d",
   "metadata": {},
   "source": [
    "### Why might \"too slow\" be a problem? In one study, we were interested in reaction time as a dependent variable. But once, a participant went to the restroom in the middle of the experiment and didn't come back for 30 minutes. What would happen to the mean reaction time for the condition that the trial was in, in which this participant used the restroom. If we included this, it would be meaningless. The mean is sensitive to outliers. The rest of the reactions are in milli-seconds. This is 4 orders of magnitude higher. Another example from neuroscience: Voltages of electrodes are usually in mV or microV (depending on eeg vs. microelectrode). What if for one trial there was voltage surge that hit the building - all measurements from that trial are invalid. You need to exclude that BEFORE looking at the results. All results will be thrown off by that."
   ]
  },
  {
   "cell_type": "markdown",
   "id": "eb872c4e",
   "metadata": {},
   "source": [
    "### Given that these are movie ratings, it is not implausible that most of these nans represent missing data due to the participant did not watch the movie in question. The reason we have to deal with this is that once this data is in the analysis stream, it will make the rest of the interpretation hard. If there is a single nan in the data, we can't take the mean.  So \"filtering\" or removing of ill-formed data will mean \"removal of missing data\" in this case.\n",
    "\n",
    "## But here is the catch: Remove them how?\n",
    "\n",
    "### There are at least 3 ways to handle this, and depending on how we do this, it will set up the entire rest of the analysis (and what it means). \n",
    "\n",
    "## 1. Element-wise removal of nans\n",
    "### We remove nans from each data matrix where we find it. But we are starting with an equal n for each movie. 3204 rows in all 3 matrices. Once we start removing stuff element-wise, due to the fact that there are an unequal number of nans for each movie, this will result in unequal n, which will make some analyses impossible. Some analyses presume equal n. It could also introduce bias. If we remove people who have not seen the latter ones, but that was a choice (their choice), we would inflate the ratings artificially. \n",
    "\n",
    "## 2. Row-wise (participant-wise) removal of nans\n",
    "### If a participant has not seen even one of the movies, we remove all of the data from this participant. Good: We keep n the same. Bad: We will lose a lot of data. Probably most of the data. This usually looks suspicious, also: Loss of statistical power. \n",
    "\n",
    "## 3. Imputation \n",
    "### We replace the missing data with our guess of what the rating would have been, if there had been a rating. This is more commonly done in engineering than in science.  Sometimes, people replace the missing value with the mean. But which mean? The participant-wise mean or the movie-wise mean - or a blend of the two? We could do the average of the movie, but is that fair? Those people chose not to watch it - they were not randomly assigned to watch the movies. This suggests that their rating would have been lower than that average. But how much lower? 0? Probably too extreme. In science, data only comes from measurement"
   ]
  },
  {
   "cell_type": "markdown",
   "id": "20691112",
   "metadata": {},
   "source": [
    "### In real life, pick the option that makes the most sense for your theoretical approach, and just do that. For teaching purposes, we'll do all of them, just so you see how that plays out in real life."
   ]
  },
  {
   "cell_type": "code",
   "execution_count": 8,
   "id": "06ee8a88",
   "metadata": {},
   "outputs": [
    {
     "name": "stdout",
     "output_type": "stream",
     "text": [
      "elementwise removal:\n",
      "len M1 after removal: 232\n",
      "len M2 after removal: 326\n"
     ]
    }
   ],
   "source": [
    "# 1) Element-wise:\n",
    "\n",
    "# MOVIE :: 1024 - 381 NaNs\n",
    "# Focused 1-2\n",
    "# Distracted 4-5\n",
    "\n",
    "M1 = NOTME[np.isfinite(NOTME)]\n",
    "M2 = ME[np.isfinite(ME)]\n",
    "\n",
    "\n",
    "print(\"elementwise removal:\")\n",
    "print(\"len M1 after removal: %s\" % len(M1)) # 1097 > 232\n",
    "print(\"len M2 after removal: %s\" % len(M2)) # 1097 > 326\n"
   ]
  },
  {
   "cell_type": "code",
   "execution_count": 33,
   "id": "61cb0a93",
   "metadata": {},
   "outputs": [
    {
     "data": {
      "image/png": "[encoded data removed]",
      "text/plain": [
       "<Figure size 640x480 with 1 Axes>"
      ]
     },
     "metadata": {},
     "output_type": "display_data"
    }
   ],
   "source": [
    "# ELEMENTWISE MOVIE 1 VS MOVIE 2\n",
    "\n",
    "\n",
    "combinedData = np.transpose(np.array([M1,M2], dtype=object)) # array of arrays\n",
    "\n",
    "\n",
    "bins = 8\n",
    "\n",
    "\n",
    "sns.histplot(combinedData[1], bins=bins, color=\"yellow\", label=\"Happening to me\")\n",
    "sns.histplot(combinedData[0], bins=bins, label=\"Not happening to me\")\n",
    "\n",
    "\n",
    "\n",
    "plt.title('Ratings distribution:: ELF (happening to me vs not)')\n",
    "plt.xlabel('rating')\n",
    "plt.ylabel('Density')\n",
    "plt.legend()\n",
    "plt.ylim([0, 300])\n",
    "plt.show()"
   ]
  },
  {
   "cell_type": "code",
   "execution_count": 34,
   "id": "69884316",
   "metadata": {},
   "outputs": [
    {
     "data": {
      "image/png": "[encoded data removed]",
      "text/plain": [
       "<Figure size 640x480 with 1 Axes>"
      ]
     },
     "metadata": {},
     "output_type": "display_data"
    }
   ],
   "source": [
    "# ELEMENTWISE MOVIE 1 VS MOVIE 2\n",
    "\n",
    "\n",
    "combinedData = np.transpose(np.array([M1,M2], dtype=object)) # array of arrays\n",
    "\n",
    "\n",
    "bins = 8\n",
    "\n",
    "sns.histplot(combinedData[0], bins=bins, label=\"NOT\", stat=\"density\", common_norm=False,)\n",
    "sns.histplot(combinedData[1], bins=bins, color=\"yellow\", label=\"Happening to me\", stat=\"density\", common_norm=False,)\n",
    "\n",
    "\n",
    "\n",
    "\n",
    "plt.title('Ratings distribution:: ELF (happening to me vs not)')\n",
    "plt.xlabel('rating')\n",
    "plt.ylabel('Density')\n",
    "plt.legend()\n",
    "plt.ylim([0, 1.25])\n",
    "plt.show()"
   ]
  },
  {
   "cell_type": "code",
   "execution_count": 36,
   "id": "933b4494",
   "metadata": {},
   "outputs": [
    {
     "data": {
      "image/png": "[encoded data removed]",
      "text/plain": [
       "<Figure size 640x480 with 1 Axes>"
      ]
     },
     "metadata": {},
     "output_type": "display_data"
    }
   ],
   "source": [
    "# ELEMENTWISE MOVIE 1 VS MOVIE 2\n",
    "\n",
    "\n",
    "combinedData = np.transpose(np.array([M1,M2], dtype=object)) # array of arrays\n",
    "\n",
    "\n",
    "bins = 8\n",
    "\n",
    "sns.histplot(combinedData[0], bins=bins, label=\"Not happening to me\", stat=\"density\")\n",
    "sns.histplot(combinedData[1], bins=bins, color=\"yellow\", label=\"This is happening to me!\", stat=\"density\")\n",
    "\n",
    "\n",
    "\n",
    "\n",
    "plt.title('Ratings distribution')\n",
    "plt.xlabel('rating')\n",
    "plt.ylabel('Density')\n",
    "plt.legend()\n",
    "plt.ylim([0, 1.25])\n",
    "plt.show()"
   ]
  },
  {
   "cell_type": "markdown",
   "id": "159b2225",
   "metadata": {},
   "source": [
    "### I took the records that came in over time by participant and broke them up, so they are now ordered by movie. I already abstracted over time. There is still something we can do that will make our life easier, which is to put this into a format we can loop over (to do all these tests). Why is the current format not great? M1 vs. M3, etc. is not great for that? Wouldn't it be better to have a matrix \"DATA\" that contains all 3 movies? It would be. Why can't it be a matrix now, given we removed missing data element-wise? Because n is unequal. So let's make it an array of arrays"
   ]
  },
  {
   "cell_type": "code",
   "execution_count": 12,
   "id": "3665f7be",
   "metadata": {},
   "outputs": [],
   "source": [
    "#%% 4a) Extrastriate cortex: Doing the actual specialized analyses\n",
    "# Descriptive statistics - we are looking for very special numbers that\n",
    "# capture the essence of the entire dataset - the typical number (central\n",
    "# tendency) and the dispersion. Typically mean and SD. \n",
    "\n",
    "numGroups = 2\n",
    "\n",
    "# Initialize container to store descriptives:\n",
    "descriptivesContainer = np.empty([numGroups,5])\n",
    "descriptivesContainer[:] = np.NaN \n",
    "\n",
    "# 1. Element-wise:\n",
    "for ii in range(numGroups):\n",
    "    descriptivesContainer[ii,0] = np.mean(combinedData[ii]) # mu\n",
    "    descriptivesContainer[ii,1] = np.std(combinedData[ii]) # sigma\n",
    "    descriptivesContainer[ii,2] = len(combinedData[ii]) # n\n",
    "    descriptivesContainer[ii,3] = descriptivesContainer[ii,1]/np.sqrt(descriptivesContainer[ii,2]) # sem\n",
    "    \n",
    "    #median\n",
    "    descriptivesContainer[ii,4] = np.median(combinedData[ii])"
   ]
  },
  {
   "cell_type": "code",
   "execution_count": 13,
   "id": "7bbfaedc",
   "metadata": {},
   "outputs": [
    {
     "data": {
      "text/plain": [
       "array([2.86853448e+00, 1.13854925e+00, 2.32000000e+02, 7.47494206e-02,\n",
       "       3.00000000e+00])"
      ]
     },
     "execution_count": 13,
     "metadata": {},
     "output_type": "execute_result"
    }
   ],
   "source": [
    "#%% 4b) Extrastriate cortex part II: Inferential statistics\n",
    "\n",
    "# MOVIE 1: check mean, std-dev, n?, SEM -> FEMALE\n",
    "descriptivesContainer[0]\n"
   ]
  },
  {
   "cell_type": "code",
   "execution_count": 14,
   "id": "d5ae2989",
   "metadata": {},
   "outputs": [
    {
     "data": {
      "text/plain": [
       "array([3.12116564e+00, 1.00224282e+00, 3.26000000e+02, 5.55090958e-02,\n",
       "       3.50000000e+00])"
      ]
     },
     "execution_count": 14,
     "metadata": {},
     "output_type": "execute_result"
    }
   ],
   "source": [
    "# MOVIE 2: check mean, std-dev, n?, SEM  -> MALE\n",
    "descriptivesContainer[1]"
   ]
  },
  {
   "cell_type": "code",
   "execution_count": 15,
   "id": "69bf8de2",
   "metadata": {},
   "outputs": [
    {
     "data": {
      "text/plain": [
       "(0.0, 4.0)"
      ]
     },
     "execution_count": 15,
     "metadata": {},
     "output_type": "execute_result"
    },
    {
     "data": {
      "image/png": "[encoded data removed]",
      "text/plain": [
       "<Figure size 640x480 with 1 Axes>"
      ]
     },
     "metadata": {},
     "output_type": "display_data"
    }
   ],
   "source": [
    "# First, lets plot our data \n",
    "# MEAN\n",
    "\n",
    "font = {'family': 'sans-serif',\n",
    "        'color':  'darkblue',\n",
    "        'weight': 'normal',\n",
    "        'size': 11,\n",
    "        }\n",
    "\n",
    "c = ['#79ccb3', '#92cad1']\n",
    "\n",
    "\n",
    "x = ['Alone', 'Social'] # labels for the bars\n",
    "plt.text(1,descriptivesContainer[0][0],descriptivesContainer[0][0], fontdict=font)\n",
    "plt.text(2,descriptivesContainer[1][0],descriptivesContainer[1][0], fontdict=font)\n",
    "xPos = np.array([1,2]) # x-values for the bars\n",
    "\n",
    "\n",
    "plt.bar(xPos,descriptivesContainer[:,0],width=0.5,yerr=descriptivesContainer[:,3], color=c) # bars + error  \n",
    "plt.xticks(xPos, x) # label the x_pos with the labels\n",
    "\n",
    "plt.title('MEAN rating: ELF')\n",
    "plt.ylabel('Mean rating') # add y-label\n",
    "plt.ylim([0, 4])\n"
   ]
  },
  {
   "cell_type": "code",
   "execution_count": 32,
   "id": "ed5e3de4",
   "metadata": {
    "scrolled": true
   },
   "outputs": [
    {
     "data": {
      "text/plain": [
       "(0.0, 4.0)"
      ]
     },
     "execution_count": 32,
     "metadata": {},
     "output_type": "execute_result"
    },
    {
     "data": {
      "image/png": "[encoded data removed]",
      "text/plain": [
       "<Figure size 640x480 with 1 Axes>"
      ]
     },
     "metadata": {},
     "output_type": "display_data"
    }
   ],
   "source": [
    "# First, lets plot our data \n",
    "# MEDIANS\n",
    "\n",
    "font = {'family': 'sans-serif',\n",
    "        'color':  'darkblue',\n",
    "        'weight': 'normal',\n",
    "        'size': 11,\n",
    "        }\n",
    "\n",
    "c = ['#79ccb3', '#92cad1']\n",
    "\n",
    "\n",
    "x = ['This is not happening to me', 'This is happening to me!'] # labels for the bars\n",
    "\n",
    "\n",
    "xPos = np.array([1,2]) # x-values for the bars\n",
    "\n",
    "# q = plt.bar(xPos,descriptivesContainer[:,0])\n",
    "# q.xticks(xPos, x) # label the x_pos with the labels\n",
    "# q.yticks(fontsize=22)\n",
    "# q.show()\n",
    "\n",
    "plt.text(1,descriptivesContainer[0][4],descriptivesContainer[0][4], fontdict=font)\n",
    "plt.text(2,descriptivesContainer[1][4],descriptivesContainer[1][4], fontdict=font)\n",
    "\n",
    "\n",
    "\n",
    "plt.bar(xPos,descriptivesContainer[:,4],width=0.5,yerr=descriptivesContainer[:,3], color=c) # bars + error  \n",
    "\n",
    "# plt.bar(xPos,descriptivesContainer[:,0])\n",
    "plt.xticks(xPos, x) # label the x_pos with the labels\n",
    "plt.yticks(fontsize=10)\n",
    "\n",
    "plt.title('MEDIAN rating of ELF')\n",
    "plt.ylabel('Median rating') # add y-label\n",
    "plt.ylim([0, 4])\n",
    "\n",
    "\n",
    "\n"
   ]
  },
  {
   "cell_type": "code",
   "execution_count": 17,
   "id": "43af2d23",
   "metadata": {},
   "outputs": [
    {
     "data": {
      "text/plain": [
       "3.0"
      ]
     },
     "execution_count": 17,
     "metadata": {},
     "output_type": "execute_result"
    }
   ],
   "source": [
    "# medians i did manually:\n",
    "\n",
    "median_not = np.median(combinedData[0])\n",
    "\n",
    "median_not"
   ]
  },
  {
   "cell_type": "code",
   "execution_count": 18,
   "id": "9ee22ba4",
   "metadata": {},
   "outputs": [
    {
     "data": {
      "text/plain": [
       "3.5"
      ]
     },
     "execution_count": 18,
     "metadata": {},
     "output_type": "execute_result"
    }
   ],
   "source": [
    "# medians i did manually:\n",
    "\n",
    "median_happening = np.median(combinedData[1])\n",
    "\n",
    "median_happening"
   ]
  },
  {
   "cell_type": "code",
   "execution_count": null,
   "id": "d8963764",
   "metadata": {},
   "outputs": [],
   "source": []
  },
  {
   "cell_type": "code",
   "execution_count": 19,
   "id": "ee493d73",
   "metadata": {},
   "outputs": [
    {
     "name": "stdout",
     "output_type": "stream",
     "text": [
      "u1:32637.5 p1:0.00468544286441546\n"
     ]
    }
   ],
   "source": [
    "# lets try mannwhitney u between each group\n",
    "# Nonparametric tests equivalent to t-tests - Mann-Whitney U test:\n",
    "# Test for comparing medians of ordinal data (such as movie ratings)\n",
    "# from 2 groups\n",
    "u1,p1 = stats.mannwhitneyu(combinedData[0],combinedData[1])\n",
    "# u2,p2 = stats.mannwhitneyu(combinedData[0],combinedData[2])\n",
    "# u3,p3 = stats.mannwhitneyu(combinedData[1],combinedData[2])\n",
    "\n",
    "print(\"u1:%s p1:%s\" % (u1,p1))\n",
    "# print(\"u2:%s p2:%s\" % (u2,p2))\n",
    "# print(\"u3:%s p3:%s\" % (u3,p3))"
   ]
  },
  {
   "cell_type": "code",
   "execution_count": 20,
   "id": "2a29e40c",
   "metadata": {
    "scrolled": true
   },
   "outputs": [
    {
     "data": {
      "image/png": "[encoded data removed]",
      "text/plain": [
       "<Figure size 1000x600 with 1 Axes>"
      ]
     },
     "metadata": {},
     "output_type": "display_data"
    }
   ],
   "source": [
    "# lets also plot the density distribution of the two:\n",
    "\n",
    "# plot the ratings distribution of all ratings for matrix_1 \n",
    "bins=8\n",
    "plt.figure(figsize=(10,6))\n",
    "plt.hist(M1, bins=bins, density=True)\n",
    "plt.title('Normalized ratings distribution:: ')\n",
    "plt.xlabel('rating')\n",
    "plt.ylabel('Density')\n",
    "plt.show()"
   ]
  },
  {
   "cell_type": "code",
   "execution_count": 21,
   "id": "2356243b",
   "metadata": {},
   "outputs": [
    {
     "data": {
      "image/png": "[encoded data removed]",
      "text/plain": [
       "<Figure size 1000x600 with 1 Axes>"
      ]
     },
     "metadata": {},
     "output_type": "display_data"
    }
   ],
   "source": [
    "\n",
    "# plot the ratings distribution of all ratings for matrix_1 \n",
    "bins=8\n",
    "plt.figure(figsize=(10,6))\n",
    "plt.hist(M2, bins=bins, density=True)\n",
    "plt.title('Normalized ratings distribution:: ELF')\n",
    "plt.xlabel('rating')\n",
    "plt.ylabel('Density')\n",
    "plt.show()"
   ]
  },
  {
   "cell_type": "markdown",
   "id": "bcb56edd",
   "metadata": {},
   "source": [
    "### So far, they look they will be different. The mean rating of movie 1 (Home Alone) is lower than that of Finding Nemo.  The question here is whether the differences we saw in the descriptives - usually the means - are \"statistically significant\".  Whether it is plausibly consistent with chance (that the numbers came out of a RGN)"
   ]
  },
  {
   "cell_type": "markdown",
   "id": "dcfc3d5a",
   "metadata": {},
   "source": [
    "### 1) Assert a null hypothesis: We assume that the data came out of a RNG - strictly by chance.\n",
    "\n",
    "### 2) We compute the probability that this is the case - assuming chance. \n",
    "\n",
    "### 3) If this probability is implausibly low, we DECIDE to concede that we were wrong in 1) - that it is probably not solely due to chance. "
   ]
  },
  {
   "cell_type": "markdown",
   "id": "a328a8fe",
   "metadata": {},
   "source": [
    "### It's a choice, it's a decision. You have not falsified the null hypothesis or \"proven\" to be wrong. We made a choice that it is implausible. But we could be wrong (type I and type II errors). "
   ]
  },
  {
   "cell_type": "markdown",
   "id": "4ce423d9",
   "metadata": {},
   "source": [
    "### In science, we consider things that happen only 1 in 20 times to be \"too implausible\" to be consistent with chance. This corresponds to getting heads (or tails) 5 times in a row (if you flip coins). Is that terribly implausible? There is now a movement afoot to lower this to 1 in 200. To avoid false positives. So results won't reproduce. This gave p values a bad reputation. But there is nothing wrong with them, if they are understood and used properly. Properly = conservative enough criterion of implausibility and high enough power. "
   ]
  },
  {
   "cell_type": "markdown",
   "id": "d776819e",
   "metadata": {},
   "source": [
    "### So our question now is: Assuming that there is no difference in reality, howlikely is it to get this mean difference just by chance (sampling error). Analogy: We are doing a crime scene investigation. Null hypothesis is thepresumption of innocence. We only reject that presumption if forced by thedata (in other words, if the evidence suggests that the fingerprints, DNA,etc.) of the suspect didn't just get there by chance. It is always possible. The unreasonable doubt (that your evidence got there just bychance always persists).  We need to do a t-test because we want to assess how likely this observedmean difference is and we do not know the population parameters. We have to do an independent samples t-test because we eliminated missing data in a way to yield unequal n. We have no choice (if we want to do a t-test)\n"
   ]
  },
  {
   "cell_type": "code",
   "execution_count": 22,
   "id": "49eb8a05",
   "metadata": {},
   "outputs": [],
   "source": [
    "# 1. Element-wise:\n",
    "t1,p1 = stats.ttest_ind(combinedData[0],combinedData[1])"
   ]
  },
  {
   "cell_type": "code",
   "execution_count": 23,
   "id": "9ed9217a",
   "metadata": {},
   "outputs": [
    {
     "data": {
      "text/plain": [
       "-2.7670026132768144"
      ]
     },
     "execution_count": 23,
     "metadata": {},
     "output_type": "execute_result"
    }
   ],
   "source": [
    "t1"
   ]
  },
  {
   "cell_type": "code",
   "execution_count": 24,
   "id": "f9a21b0d",
   "metadata": {},
   "outputs": [
    {
     "data": {
      "text/plain": [
       "0.005845771320556332"
      ]
     },
     "execution_count": 24,
     "metadata": {},
     "output_type": "execute_result"
    }
   ],
   "source": [
    "p1"
   ]
  },
  {
   "cell_type": "markdown",
   "id": "21069370",
   "metadata": {},
   "source": [
    "### P-value is too high to be considered significant, try a more appropriate test."
   ]
  },
  {
   "cell_type": "code",
   "execution_count": 25,
   "id": "3111e4b0",
   "metadata": {},
   "outputs": [],
   "source": [
    "# Nonparametric tests equivalent to t-tests - Mann-Whitney U test:\n",
    "# Test for comparing medians of ordinal data (such as movie ratings)\n",
    "# from 2 groups\n",
    "u1,p1 = stats.mannwhitneyu(combinedData[0],combinedData[1])"
   ]
  },
  {
   "cell_type": "code",
   "execution_count": 26,
   "id": "7f1cc65d",
   "metadata": {},
   "outputs": [
    {
     "data": {
      "text/plain": [
       "32637.5"
      ]
     },
     "execution_count": 26,
     "metadata": {},
     "output_type": "execute_result"
    }
   ],
   "source": [
    "u1"
   ]
  },
  {
   "cell_type": "code",
   "execution_count": 27,
   "id": "63ec12e9",
   "metadata": {},
   "outputs": [
    {
     "data": {
      "text/plain": [
       "0.00468544286441546"
      ]
     },
     "execution_count": 27,
     "metadata": {},
     "output_type": "execute_result"
    }
   ],
   "source": [
    "p1"
   ]
  },
  {
   "cell_type": "code",
   "execution_count": 28,
   "id": "45bccb07",
   "metadata": {},
   "outputs": [],
   "source": [
    "### also do a KS test to be sure"
   ]
  },
  {
   "cell_type": "code",
   "execution_count": 29,
   "id": "a08d620d",
   "metadata": {},
   "outputs": [
    {
     "data": {
      "text/plain": [
       "KstestResult(statistic=0.11378781468161625, pvalue=0.05416280998002213)"
      ]
     },
     "execution_count": 29,
     "metadata": {},
     "output_type": "execute_result"
    }
   ],
   "source": [
    "# test 2 samples kstest\n",
    "stats.ks_2samp(combinedData[0],combinedData[1])"
   ]
  },
  {
   "cell_type": "code",
   "execution_count": null,
   "id": "51536d0c",
   "metadata": {},
   "outputs": [],
   "source": []
  },
  {
   "cell_type": "code",
   "execution_count": null,
   "id": "9773147a",
   "metadata": {},
   "outputs": [],
   "source": []
  }
 ],
 "metadata": {
  "kernelspec": {
   "display_name": "Python 3 (ipykernel)",
   "language": "python",
   "name": "python3"
  },
  "language_info": {
   "codemirror_mode": {
    "name": "ipython",
    "version": 3
   },
   "file_extension": ".py",
   "mimetype": "text/x-python",
   "name": "python",
   "nbconvert_exporter": "python",
   "pygments_lexer": "ipython3",
   "version": "3.9.13"
  }
 },
 "nbformat": 4,
 "nbformat_minor": 5
}
