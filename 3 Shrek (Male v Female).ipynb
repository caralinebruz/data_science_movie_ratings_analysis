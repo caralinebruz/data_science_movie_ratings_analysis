{
 "cells": [
  {
   "cell_type": "code",
   "execution_count": 86,
   "id": "24770d55",
   "metadata": {},
   "outputs": [],
   "source": [
    "#!/usr/bin/env python3\n",
    "# -*- coding: utf-8 -*-\n",
    "\n",
    "# ### Analysis Project \n",
    "# \n",
    "# ### 2022-11-2\n",
    "\n",
    "# ### Statistical significance tests on movie ratings data\n",
    "                    \n",
    "# We acknowledge any outcome could be due to\n",
    "# chance. Our only question is how likely that is by chance. If it is\n",
    "# implausibly unlikely, we reject the assumption that it was just due to\n",
    "# chance. And either the null hypothesis is true or not, so if we reject it\n",
    "# is plausible, it probably means that our treatment did have an effect.                  \n",
    "                    \n",
    "#%% Before we do the stats, let's talk about the psychology of movie ratings:\n",
    "    \n",
    "# Hypothesis 1: There is no difference in the distribution of ratings between the two movies.\n",
    "\n",
    "# Hypothesis 2: Distribution of ratings for one of the movies will be different from the other.\n",
    "\n",
    "# Make sure that you actually have 2 plausible outcomes before doing the\n",
    "# study. If the outcome is a foregone conclusion, it's not science. Science\n",
    "# is about being open to any possible outcome.\n",
    "\n",
    "# Null hypothesis: There is no difference. \n",
    "\n",
    "# Let's implement the canonical data analysis cascade\n",
    "\n",
    "\n",
    "\n",
    "# b. Load/import - libraries/packages:\n",
    "\n",
    "import pandas as pd\n",
    "import numpy as np\n",
    "from scipy import stats, special\n",
    "import matplotlib.pyplot as plt\n",
    "import seaborn as sns\n"
   ]
  },
  {
   "cell_type": "markdown",
   "id": "88bf510d",
   "metadata": {},
   "source": [
    "# Let me walk you through the null hypothesistesting framework at least once (just once). It is a bit arcane. It madesense to Fisher.         \n",
    "\n",
    "### 1) Start with a hypothesis (something about the world you would wish toknow, whether it is true or not). \n",
    "\n",
    "### 2) State a null hypothesis and assume that it is 100% true (that there is no difference in the conditions of 1), e.g. here Matrix I rated the sameas Matrix II and III). This is essential to NHST. \n",
    "\n",
    "### 3) This is - at the face of it - an odd thing to do, because naively you would think that scientists look for probability (Hypothesis | Data) But that is unknowable. Which is why we do the study in the first place. What is calculable: Probability (Data | NULL hypothesis)You can assess the probability of the data given the null hypothesis\n",
    "\n",
    "### 4) To get this probability, we represent the sample by a parameter like a sample mean, then transform the sample mean into a test statistic with a known distribution.\n",
    "\n",
    "### 5) The area under the curve of the distribution of the test statistic in the tail (or tails, if it is a 2-tailed test) is the p value, in otherwords the probability of this result (or a more extreme one) given chancealone.\n",
    "\n",
    "### 6) We compare the p value to a significance level alpha (typically 5% or 1%)\n",
    "\n",
    "### 7) Decision point (Choice)\n",
    "### a) If it is smaller than that, we decide to reject our assumption that the null hypothesis is true.\n",
    "### b) If it is not smaller than that, we don't do anything because we alreadyassumed that the null hypothesis is true.                    "
   ]
  },
  {
   "cell_type": "markdown",
   "id": "923dbdc7",
   "metadata": {},
   "source": [
    "## 1. Loader / Transducer: Taking the inputs from their native form and putting it into something Python can use: a matrix"
   ]
  },
  {
   "cell_type": "code",
   "execution_count": 87,
   "id": "f1ffd83f",
   "metadata": {},
   "outputs": [],
   "source": [
    "M = pd.read_csv('movieReplicationSet.csv')\n",
    "\n",
    "\n",
    "Female = M.loc[M['Gender identity (1 = female; 2 = male; 3 = self-described)'] == 1, 'Shrek (2001)']\n",
    "Male = M.loc[M['Gender identity (1 = female; 2 = male; 3 = self-described)'] == 2, 'Shrek (2001)']\n",
    "Self = M.loc[M['Gender identity (1 = female; 2 = male; 3 = self-described)'] == 3, 'Shrek (2001)']\n",
    "\n",
    "Female = pd.to_numeric(Female,errors='coerce').values\n",
    "Male = pd.to_numeric(Male,errors='coerce').values\n",
    "Self = pd.to_numeric(Self,errors='coerce').values\n"
   ]
  },
  {
   "cell_type": "code",
   "execution_count": 88,
   "id": "cfa0ef7c",
   "metadata": {},
   "outputs": [
    {
     "data": {
      "text/plain": [
       "array([4. , 3. , 3.5, nan, 2. , 3. , 2.5, 4. , 4. , 3. , 3. , 3. , 3. ,\n",
       "       4. , 3. , 2.5, 3.5, nan, 4. , 2.5, 3.5, 3.5, 1. , 3.5, 3. , 2.5,\n",
       "       3. , 1. , 2.5, 3. , 2. , 3.5, 2.5, 4. , 4. , 3.5, 3.5, 3. , 3. ,\n",
       "       nan, 4. , 4. , nan, 2.5, 3.5, 1.5, 3. , 4. , 2. , 1.5, 4. , 3. ,\n",
       "       3.5, 2.5, 3. , 2.5, nan, nan, 4. , 3.5, nan, 3. , 1.5, 3. , 4. ,\n",
       "       4. , 2. , 3.5, 2. , nan, 4. , 3. , 1.5, nan, 3. , 3. , 3. , 4. ,\n",
       "       3. , 4. , 3. , 3. , 3.5, 4. , 4. , 3.5, 3. , 3.5, 4. , 4. , nan,\n",
       "       0.5, 1. , 4. , 4. , 4. , 2.5, 3.5, 2.5, 2. , 1.5, 3.5, 2. , 3. ,\n",
       "       nan, 4. , 3.5, 2. , 3.5, 3.5, 4. , 3. , 3.5, 4. , 2. , 2. , 1.5,\n",
       "       4. , 3. , 2.5, 3.5, 2.5, 3. , 2.5, 2.5, 2.5, nan, 3.5, 4. , 2.5,\n",
       "       2.5, 1.5, 3. , 3. , 2.5, 4. , 2.5, 3. , 3.5, 2.5, 3. , nan, 3. ,\n",
       "       3. , 2.5, 2.5, 3. , nan, 3. , 3. , 3. , 4. , 3.5, nan, 3.5, 4. ,\n",
       "       3. , 2. , 4. , 3. , 3. , 1. , 3.5, 4. , 2.5, 3.5, 3.5, 0.5, 3.5,\n",
       "       3.5, 4. , 4. , 2.5, 2. , 2. , 2. , 3.5, 4. , 4. , 3.5, nan, 3. ,\n",
       "       4. , 3. , 4. , 4. , 4. , nan, 1.5, 4. , 2. , 3. , 3.5, 4. , 2. ,\n",
       "       3. , 3.5, 2.5, 3. , 4. , 3.5, 4. , 4. , 4. , 4. , 4. , 2. , 4. ,\n",
       "       4. , 1. , 3. , 3. , 3.5, 4. , 3. , 2.5, 4. , 3.5, 4. , 2.5, 4. ,\n",
       "       3.5, 3.5, 4. , 4. , 3.5, 3.5, 1.5, 4. , 3. , 2. , 3.5, 3. , 4. ,\n",
       "       4. , nan, 3.5, 3. , 3. , 3. , 2.5, nan, 4. , 2. , 4. , 4. , 2. ,\n",
       "       3. , 3. , 3.5, 3.5, 2.5, 3. , 1. , 3. , 4. , 1. , 2.5, 3. , 3. ])"
      ]
     },
     "execution_count": 88,
     "metadata": {},
     "output_type": "execute_result"
    }
   ],
   "source": [
    "Male"
   ]
  },
  {
   "cell_type": "code",
   "execution_count": 89,
   "id": "062642ec",
   "metadata": {},
   "outputs": [
    {
     "data": {
      "text/plain": [
       "260"
      ]
     },
     "execution_count": 89,
     "metadata": {},
     "output_type": "execute_result"
    }
   ],
   "source": [
    "len(Male)"
   ]
  },
  {
   "cell_type": "code",
   "execution_count": 90,
   "id": "71c05298",
   "metadata": {},
   "outputs": [
    {
     "data": {
      "text/plain": [
       "807"
      ]
     },
     "execution_count": 90,
     "metadata": {},
     "output_type": "execute_result"
    }
   ],
   "source": [
    "len(Female)"
   ]
  },
  {
   "cell_type": "code",
   "execution_count": 91,
   "id": "8ce081ae",
   "metadata": {},
   "outputs": [
    {
     "data": {
      "text/plain": [
       "6"
      ]
     },
     "execution_count": 91,
     "metadata": {},
     "output_type": "execute_result"
    }
   ],
   "source": [
    "len(Self)"
   ]
  },
  {
   "cell_type": "markdown",
   "id": "9f948f61",
   "metadata": {},
   "source": [
    "## 2. \"Thalamus\" stage: We need to get rid of \"bad\" data. "
   ]
  },
  {
   "cell_type": "markdown",
   "id": "02df8538",
   "metadata": {},
   "source": [
    "### This is not data we don't like the results of.  It's data that if it entered the analysis stream would ruin our analysis. By visual inspection, the matrix of movie ratings contains numbers from 1 to 4, representing \"star ratings\", and \"nans\".  What could the nans be? What do they mean? It could be people not doing the task. There are many ways to detect this. People who press buttons not in the instructions, people responding too fast, people responding too slow. "
   ]
  },
  {
   "cell_type": "markdown",
   "id": "68848e5d",
   "metadata": {},
   "source": [
    "### Why might \"too slow\" be a problem? In one study, we were interested in reaction time as a dependent variable. But once, a participant went to the restroom in the middle of the experiment and didn't come back for 30 minutes. What would happen to the mean reaction time for the condition that the trial was in, in which this participant used the restroom. If we included this, it would be meaningless. The mean is sensitive to outliers. The rest of the reactions are in milli-seconds. This is 4 orders of magnitude higher. Another example from neuroscience: Voltages of electrodes are usually in mV or microV (depending on eeg vs. microelectrode). What if for one trial there was voltage surge that hit the building - all measurements from that trial are invalid. You need to exclude that BEFORE looking at the results. All results will be thrown off by that."
   ]
  },
  {
   "cell_type": "markdown",
   "id": "eb872c4e",
   "metadata": {},
   "source": [
    "### Given that these are movie ratings, it is not implausible that most of these nans represent missing data due to the participant did not watch the movie in question. The reason we have to deal with this is that once this data is in the analysis stream, it will make the rest of the interpretation hard. If there is a single nan in the data, we can't take the mean.  So \"filtering\" or removing of ill-formed data will mean \"removal of missing data\" in this case.\n",
    "\n",
    "## But here is the catch: Remove them how?\n",
    "\n",
    "### There are at least 3 ways to handle this, and depending on how we do this, it will set up the entire rest of the analysis (and what it means). \n",
    "\n",
    "## 1. Element-wise removal of nans\n",
    "### We remove nans from each data matrix where we find it. But we are starting with an equal n for each movie. 3204 rows in all 3 matrices. Once we start removing stuff element-wise, due to the fact that there are an unequal number of nans for each movie, this will result in unequal n, which will make some analyses impossible. Some analyses presume equal n. It could also introduce bias. If we remove people who have not seen the latter ones, but that was a choice (their choice), we would inflate the ratings artificially. \n",
    "\n",
    "## 2. Row-wise (participant-wise) removal of nans\n",
    "### If a participant has not seen even one of the movies, we remove all of the data from this participant. Good: We keep n the same. Bad: We will lose a lot of data. Probably most of the data. This usually looks suspicious, also: Loss of statistical power. \n",
    "\n",
    "## 3. Imputation \n",
    "### We replace the missing data with our guess of what the rating would have been, if there had been a rating. This is more commonly done in engineering than in science.  Sometimes, people replace the missing value with the mean. But which mean? The participant-wise mean or the movie-wise mean - or a blend of the two? We could do the average of the movie, but is that fair? Those people chose not to watch it - they were not randomly assigned to watch the movies. This suggests that their rating would have been lower than that average. But how much lower? 0? Probably too extreme. In science, data only comes from measurement"
   ]
  },
  {
   "cell_type": "markdown",
   "id": "20691112",
   "metadata": {},
   "source": [
    "### In real life, pick the option that makes the most sense for your theoretical approach, and just do that. For teaching purposes, we'll do all of them, just so you see how that plays out in real life."
   ]
  },
  {
   "cell_type": "code",
   "execution_count": 93,
   "id": "06ee8a88",
   "metadata": {},
   "outputs": [
    {
     "name": "stdout",
     "output_type": "stream",
     "text": [
      "elementwise removal:\n",
      "len M1 after removal: 743\n",
      "len M2 after removal: 241\n",
      "len M3 after removal: 6\n"
     ]
    }
   ],
   "source": [
    "# 1) Element-wise:\n",
    "# M1_e = M1\n",
    "# M2_e = M2\n",
    "# M1_e = M1_e[np.isfinite(M1_e)] # only keep the finite elements (not infinity or NaN)\n",
    "# M2_e = M2_e[np.isfinite(M2_e)] # only keep the finite elements (not infinity or NaN)\n",
    "\n",
    "Female = Female[np.isfinite(Female)]\n",
    "Male = Male[np.isfinite(Male)]\n",
    "\n",
    "\n",
    "Self = Self[np.isfinite(Self)]\n",
    "\n",
    "print(\"elementwise removal:\")\n",
    "print(\"len M1 after removal: %s\" % len(Female)) # 807 > 743\n",
    "print(\"len M2 after removal: %s\" % len(Male)) # 260 > 241\n",
    "print(\"len M3 after removal: %s\" % len(Self)) # 6 > 6"
   ]
  },
  {
   "cell_type": "code",
   "execution_count": 94,
   "id": "61cb0a93",
   "metadata": {},
   "outputs": [
    {
     "data": {
      "image/png": "[encoded data removed]",
      "text/plain": [
       "<Figure size 640x480 with 1 Axes>"
      ]
     },
     "metadata": {},
     "output_type": "display_data"
    }
   ],
   "source": [
    "# ELEMENTWISE MOVIE 1 VS MOVIE 2\n",
    "\n",
    "\n",
    "# combinedData = np.transpose(np.array([Female,Male], dtype=object)) # array of arrays\n",
    "combinedData = np.transpose(np.array([Female,Male,Self], dtype=object)) # array of arrays\n",
    "\n",
    "bins = 9\n",
    "\n",
    "sns.histplot(combinedData[0], bins=bins, color=\"yellow\", label=\"Female\")\n",
    "sns.histplot(combinedData[1], bins=bins, label=\"Male\")\n",
    "sns.histplot(combinedData[2], bins=bins, label=\"Self\", color=\"orange\")\n",
    "\n",
    "plt.title('Ratings distribution of Shrek for Female vs Male viewers')\n",
    "plt.xlabel('rating')\n",
    "plt.ylabel('Density')\n",
    "plt.legend()\n",
    "plt.ylim([0, 300])\n",
    "plt.show()"
   ]
  },
  {
   "cell_type": "markdown",
   "id": "159b2225",
   "metadata": {},
   "source": [
    "### I took the records that came in over time by participant and broke them up, so they are now ordered by movie. I already abstracted over time. There is still something we can do that will make our life easier, which is to put this into a format we can loop over (to do all these tests). Why is the current format not great? M1 vs. M3, etc. is not great for that? Wouldn't it be better to have a matrix \"DATA\" that contains all 3 movies? It would be. Why can't it be a matrix now, given we removed missing data element-wise? Because n is unequal. So let's make it an array of arrays"
   ]
  },
  {
   "cell_type": "code",
   "execution_count": 113,
   "id": "3665f7be",
   "metadata": {},
   "outputs": [],
   "source": [
    "#%% 4a) Extrastriate cortex: Doing the actual specialized analyses\n",
    "# Descriptive statistics - we are looking for very special numbers that\n",
    "# capture the essence of the entire dataset - the typical number (central\n",
    "# tendency) and the dispersion. Typically mean and SD. \n",
    "\n",
    "numGroups = 3\n",
    "\n",
    "# Initialize container to store descriptives:\n",
    "descriptivesContainer = np.empty([numGroups,5])\n",
    "descriptivesContainer[:] = np.NaN \n",
    "\n",
    "# 1. Element-wise:\n",
    "for ii in range(numGroups):\n",
    "    descriptivesContainer[ii,0] = np.mean(combinedData[ii]) # mu\n",
    "    descriptivesContainer[ii,1] = np.std(combinedData[ii]) # sigma\n",
    "    descriptivesContainer[ii,2] = len(combinedData[ii]) # n\n",
    "    descriptivesContainer[ii,3] = descriptivesContainer[ii,1]/np.sqrt(descriptivesContainer[ii,2]) # sem\n",
    "    \n",
    "    #median\n",
    "    descriptivesContainer[ii,4] = np.median(combinedData[ii])"
   ]
  },
  {
   "cell_type": "code",
   "execution_count": 114,
   "id": "7bbfaedc",
   "metadata": {},
   "outputs": [
    {
     "data": {
      "text/plain": [
       "array([3.15545087e+00, 9.05936325e-01, 7.43000000e+02, 3.32355804e-02,\n",
       "       3.50000000e+00])"
      ]
     },
     "execution_count": 114,
     "metadata": {},
     "output_type": "execute_result"
    }
   ],
   "source": [
    "#%% 4b) Extrastriate cortex part II: Inferential statistics\n",
    "\n",
    "# MOVIE 1: check mean, std-dev, n?, SEM -> FEMALE\n",
    "descriptivesContainer[0]\n"
   ]
  },
  {
   "cell_type": "code",
   "execution_count": 115,
   "id": "d5ae2989",
   "metadata": {},
   "outputs": [
    {
     "data": {
      "text/plain": [
       "array([3.08298755e+00, 8.23262029e-01, 2.41000000e+02, 5.30309692e-02,\n",
       "       3.00000000e+00])"
      ]
     },
     "execution_count": 115,
     "metadata": {},
     "output_type": "execute_result"
    }
   ],
   "source": [
    "# MOVIE 2: check mean, std-dev, n?, SEM  -> MALE\n",
    "descriptivesContainer[1]"
   ]
  },
  {
   "cell_type": "code",
   "execution_count": 116,
   "id": "4151cff8",
   "metadata": {},
   "outputs": [
    {
     "data": {
      "text/plain": [
       "array([3.25      , 0.47871355, 6.        , 0.19543399, 3.25      ])"
      ]
     },
     "execution_count": 116,
     "metadata": {},
     "output_type": "execute_result"
    }
   ],
   "source": [
    "# MOVIE 3: check mean, std-dev, n?, SEM  -> MALE\n",
    "descriptivesContainer[2]"
   ]
  },
  {
   "cell_type": "code",
   "execution_count": 109,
   "id": "69bf8de2",
   "metadata": {},
   "outputs": [
    {
     "data": {
      "text/plain": [
       "(0.0, 4.0)"
      ]
     },
     "execution_count": 109,
     "metadata": {},
     "output_type": "execute_result"
    },
    {
     "data": {
      "image/png": "[encoded data removed]",
      "text/plain": [
       "<Figure size 640x480 with 1 Axes>"
      ]
     },
     "metadata": {},
     "output_type": "display_data"
    }
   ],
   "source": [
    "# First, lets plot our data \n",
    "# MEAN\n",
    "\n",
    "font = {'family': 'sans-serif',\n",
    "        'color':  'darkblue',\n",
    "        'weight': 'normal',\n",
    "        'size': 11,\n",
    "        }\n",
    "\n",
    "c = ['#79ccb3', '#92cad1']\n",
    "\n",
    "\n",
    "# x = ['Female', 'Male'] # labels for the bars\n",
    "# plt.text(1,descriptivesContainer[0][0],descriptivesContainer[0][0], fontdict=font)\n",
    "# plt.text(2,descriptivesContainer[1][0],descriptivesContainer[1][0], fontdict=font)\n",
    "# xPos = np.array([1,2]) # x-values for the bars\n",
    "\n",
    "\n",
    "x = ['Female', 'Male', 'Self'] # labels for the bars\n",
    "plt.text(1,descriptivesContainer[0][0],descriptivesContainer[0][0], fontdict=font)\n",
    "plt.text(2,descriptivesContainer[1][0],descriptivesContainer[1][0], fontdict=font)\n",
    "plt.text(3,descriptivesContainer[2][0],descriptivesContainer[2][0], fontdict=font)\n",
    "xPos = np.array([1,2,3]) # x-values for the bars\n",
    "\n",
    "\n",
    "plt.bar(xPos,descriptivesContainer[:,0],width=0.5,yerr=descriptivesContainer[:,3], color=c) # bars + error  \n",
    "plt.xticks(xPos, x) # label the x_pos with the labels\n",
    "\n",
    "plt.title('Mean rating: Shrek (Female vs Male vs Self viewers)')\n",
    "plt.ylabel('Mean rating') # add y-label\n",
    "plt.ylim([0, 4])\n"
   ]
  },
  {
   "cell_type": "code",
   "execution_count": 117,
   "id": "ed5e3de4",
   "metadata": {},
   "outputs": [
    {
     "data": {
      "text/plain": [
       "(0.0, 4.0)"
      ]
     },
     "execution_count": 117,
     "metadata": {},
     "output_type": "execute_result"
    },
    {
     "data": {
      "image/png": "[encoded data removed]",
      "text/plain": [
       "<Figure size 640x480 with 1 Axes>"
      ]
     },
     "metadata": {},
     "output_type": "display_data"
    }
   ],
   "source": [
    "# First, lets plot our data \n",
    "# MEDIANS\n",
    "\n",
    "font = {'family': 'sans-serif',\n",
    "        'color':  'darkblue',\n",
    "        'weight': 'normal',\n",
    "        'size': 11,\n",
    "        }\n",
    "\n",
    "c = ['#79ccb3', '#92cad1']\n",
    "\n",
    "\n",
    "# x = ['Female', 'Male'] # labels for the bars\n",
    "# plt.text(1,descriptivesContainer[0][0],descriptivesContainer[0][0], fontdict=font)\n",
    "# plt.text(2,descriptivesContainer[1][0],descriptivesContainer[1][0], fontdict=font)\n",
    "# xPos = np.array([1,2]) # x-values for the bars\n",
    "\n",
    "\n",
    "x = ['Female', 'Male', 'Self'] # labels for the bars\n",
    "plt.text(1,descriptivesContainer[0][4],descriptivesContainer[0][4], fontdict=font)\n",
    "plt.text(2,descriptivesContainer[1][4],descriptivesContainer[1][4], fontdict=font)\n",
    "plt.text(3,descriptivesContainer[2][4],descriptivesContainer[2][4], fontdict=font)\n",
    "xPos = np.array([1,2,3]) # x-values for the bars\n",
    "\n",
    "\n",
    "plt.bar(xPos,descriptivesContainer[:,0],width=0.5,yerr=descriptivesContainer[:,3], color=c) # bars + error  \n",
    "plt.xticks(xPos, x) # label the x_pos with the labels\n",
    "\n",
    "plt.title('Median rating: Shrek (Female vs Male vs Self)')\n",
    "plt.ylabel('Median rating') # add y-label\n",
    "plt.ylim([0, 4])\n",
    "\n",
    "\n",
    "\n"
   ]
  },
  {
   "cell_type": "code",
   "execution_count": 105,
   "id": "f18ac67d",
   "metadata": {},
   "outputs": [],
   "source": [
    "# lets try a kruskal wallice test for the three groups\n",
    "\n",
    "\n",
    "# Nonparametric tests equivalent to ANOVA - Kruskal-Wallis:\n",
    "# Same assumptions as above, but for more than 2 groups\n",
    "h,p = stats.kruskal(combinedData[0],combinedData[1],combinedData[2])"
   ]
  },
  {
   "cell_type": "code",
   "execution_count": 106,
   "id": "387e6215",
   "metadata": {},
   "outputs": [
    {
     "data": {
      "text/plain": [
       "3.8511851030469844"
      ]
     },
     "execution_count": 106,
     "metadata": {},
     "output_type": "execute_result"
    }
   ],
   "source": [
    "h"
   ]
  },
  {
   "cell_type": "code",
   "execution_count": 107,
   "id": "6cb9d147",
   "metadata": {},
   "outputs": [
    {
     "data": {
      "text/plain": [
       "0.1457893435589556"
      ]
     },
     "execution_count": 107,
     "metadata": {},
     "output_type": "execute_result"
    }
   ],
   "source": [
    "p"
   ]
  },
  {
   "cell_type": "code",
   "execution_count": 108,
   "id": "ee493d73",
   "metadata": {},
   "outputs": [
    {
     "name": "stdout",
     "output_type": "stream",
     "text": [
      "u1:96830.5 p1:0.050536625925559006\n",
      "u2:2342.0 p2:0.826358951526508\n",
      "u3:679.0 p3:0.7967165733788198\n"
     ]
    }
   ],
   "source": [
    "# lets try mannwhitney u between each group\n",
    "# Nonparametric tests equivalent to t-tests - Mann-Whitney U test:\n",
    "# Test for comparing medians of ordinal data (such as movie ratings)\n",
    "# from 2 groups\n",
    "u1,p1 = stats.mannwhitneyu(combinedData[0],combinedData[1])\n",
    "u2,p2 = stats.mannwhitneyu(combinedData[0],combinedData[2])\n",
    "u3,p3 = stats.mannwhitneyu(combinedData[1],combinedData[2])\n",
    "\n",
    "print(\"u1:%s p1:%s\" % (u1,p1))\n",
    "print(\"u2:%s p2:%s\" % (u2,p2))\n",
    "print(\"u3:%s p3:%s\" % (u3,p3))"
   ]
  },
  {
   "cell_type": "code",
   "execution_count": 37,
   "id": "2a29e40c",
   "metadata": {},
   "outputs": [
    {
     "data": {
      "image/png": "[encoded data removed]",
      "text/plain": [
       "<Figure size 1000x600 with 1 Axes>"
      ]
     },
     "metadata": {},
     "output_type": "display_data"
    }
   ],
   "source": [
    "# lets also plot the density distribution of the two:\n",
    "\n",
    "# plot the ratings distribution of all ratings for matrix_1 \n",
    "bins=9\n",
    "plt.figure(figsize=(10,6))\n",
    "plt.hist(Female, bins=bins, density=True)\n",
    "plt.title('Normalized ratings distribution for Female viewers')\n",
    "plt.xlabel('rating')\n",
    "plt.ylabel('Density')\n",
    "plt.show()"
   ]
  },
  {
   "cell_type": "code",
   "execution_count": 36,
   "id": "2356243b",
   "metadata": {},
   "outputs": [
    {
     "data": {
      "image/png": "[encoded data removed]",
      "text/plain": [
       "<Figure size 1000x600 with 1 Axes>"
      ]
     },
     "metadata": {},
     "output_type": "display_data"
    }
   ],
   "source": [
    "\n",
    "# plot the ratings distribution of all ratings for matrix_1 \n",
    "bins=9\n",
    "plt.figure(figsize=(10,6))\n",
    "plt.hist(Male, bins=bins, density=True)\n",
    "plt.title('Normalized ratings distribution for Male viewers')\n",
    "plt.xlabel('rating')\n",
    "plt.ylabel('Density')\n",
    "plt.show()"
   ]
  },
  {
   "cell_type": "markdown",
   "id": "bcb56edd",
   "metadata": {},
   "source": [
    "### So far, they look they will be different. The mean rating of movie 1 (Home Alone) is lower than that of Finding Nemo.  The question here is whether the differences we saw in the descriptives - usually the means - are \"statistically significant\".  Whether it is plausibly consistent with chance (that the numbers came out of a RGN)"
   ]
  },
  {
   "cell_type": "markdown",
   "id": "dcfc3d5a",
   "metadata": {},
   "source": [
    "### 1) Assert a null hypothesis: We assume that the data came out of a RNG - strictly by chance.\n",
    "\n",
    "### 2) We compute the probability that this is the case - assuming chance. \n",
    "\n",
    "### 3) If this probability is implausibly low, we DECIDE to concede that we were wrong in 1) - that it is probably not solely due to chance. "
   ]
  },
  {
   "cell_type": "markdown",
   "id": "a328a8fe",
   "metadata": {},
   "source": [
    "### It's a choice, it's a decision. You have not falsified the null hypothesis or \"proven\" to be wrong. We made a choice that it is implausible. But we could be wrong (type I and type II errors). "
   ]
  },
  {
   "cell_type": "markdown",
   "id": "4ce423d9",
   "metadata": {},
   "source": [
    "### In science, we consider things that happen only 1 in 20 times to be \"too implausible\" to be consistent with chance. This corresponds to getting heads (or tails) 5 times in a row (if you flip coins). Is that terribly implausible? There is now a movement afoot to lower this to 1 in 200. To avoid false positives. So results won't reproduce. This gave p values a bad reputation. But there is nothing wrong with them, if they are understood and used properly. Properly = conservative enough criterion of implausibility and high enough power. "
   ]
  },
  {
   "cell_type": "markdown",
   "id": "d776819e",
   "metadata": {},
   "source": [
    "### So our question now is: Assuming that there is no difference in reality, howlikely is it to get this mean difference just by chance (sampling error). Analogy: We are doing a crime scene investigation. Null hypothesis is thepresumption of innocence. We only reject that presumption if forced by thedata (in other words, if the evidence suggests that the fingerprints, DNA,etc.) of the suspect didn't just get there by chance. It is always possible. The unreasonable doubt (that your evidence got there just bychance always persists).  We need to do a t-test because we want to assess how likely this observedmean difference is and we do not know the population parameters. We have to do an independent samples t-test because we eliminated missing data in a way to yield unequal n. We have no choice (if we want to do a t-test)\n"
   ]
  },
  {
   "cell_type": "code",
   "execution_count": 38,
   "id": "49eb8a05",
   "metadata": {},
   "outputs": [],
   "source": [
    "# 1. Element-wise:\n",
    "t1,p1 = stats.ttest_ind(combinedData[0],combinedData[1])"
   ]
  },
  {
   "cell_type": "code",
   "execution_count": 39,
   "id": "9ed9217a",
   "metadata": {},
   "outputs": [
    {
     "data": {
      "text/plain": [
       "1.1016699726285888"
      ]
     },
     "execution_count": 39,
     "metadata": {},
     "output_type": "execute_result"
    }
   ],
   "source": [
    "t1"
   ]
  },
  {
   "cell_type": "code",
   "execution_count": 40,
   "id": "f9a21b0d",
   "metadata": {},
   "outputs": [
    {
     "data": {
      "text/plain": [
       "0.27087511813734183"
      ]
     },
     "execution_count": 40,
     "metadata": {},
     "output_type": "execute_result"
    }
   ],
   "source": [
    "p1"
   ]
  },
  {
   "cell_type": "markdown",
   "id": "21069370",
   "metadata": {},
   "source": [
    "### P-value is too high to be considered significant, try a more appropriate test."
   ]
  },
  {
   "cell_type": "code",
   "execution_count": 42,
   "id": "3111e4b0",
   "metadata": {},
   "outputs": [],
   "source": [
    "# Nonparametric tests equivalent to t-tests - Mann-Whitney U test:\n",
    "# Test for comparing medians of ordinal data (such as movie ratings)\n",
    "# from 2 groups\n",
    "u1,p1 = stats.mannwhitneyu(combinedData[0],combinedData[1])"
   ]
  },
  {
   "cell_type": "code",
   "execution_count": 43,
   "id": "7f1cc65d",
   "metadata": {},
   "outputs": [
    {
     "data": {
      "text/plain": [
       "96830.5"
      ]
     },
     "execution_count": 43,
     "metadata": {},
     "output_type": "execute_result"
    }
   ],
   "source": [
    "u1"
   ]
  },
  {
   "cell_type": "code",
   "execution_count": 44,
   "id": "63ec12e9",
   "metadata": {},
   "outputs": [
    {
     "data": {
      "text/plain": [
       "0.050536625925559006"
      ]
     },
     "execution_count": 44,
     "metadata": {},
     "output_type": "execute_result"
    }
   ],
   "source": [
    "p1"
   ]
  },
  {
   "cell_type": "code",
   "execution_count": 78,
   "id": "45bccb07",
   "metadata": {},
   "outputs": [],
   "source": [
    "### also do a KS test to be sure"
   ]
  },
  {
   "cell_type": "code",
   "execution_count": 79,
   "id": "a08d620d",
   "metadata": {},
   "outputs": [
    {
     "data": {
      "text/plain": [
       "KstestResult(statistic=0.09796552051512596, pvalue=0.05608204072286342)"
      ]
     },
     "execution_count": 79,
     "metadata": {},
     "output_type": "execute_result"
    }
   ],
   "source": [
    "# test 2 samples kstest\n",
    "stats.ks_2samp(combinedData[0],combinedData[1])"
   ]
  },
  {
   "cell_type": "code",
   "execution_count": null,
   "id": "51536d0c",
   "metadata": {},
   "outputs": [],
   "source": []
  }
 ],
 "metadata": {
  "kernelspec": {
   "display_name": "Python 3 (ipykernel)",
   "language": "python",
   "name": "python3"
  },
  "language_info": {
   "codemirror_mode": {
    "name": "ipython",
    "version": 3
   },
   "file_extension": ".py",
   "mimetype": "text/x-python",
   "name": "python",
   "nbconvert_exporter": "python",
   "pygments_lexer": "ipython3",
   "version": "3.9.13"
  }
 },
 "nbformat": 4,
 "nbformat_minor": 5
}
