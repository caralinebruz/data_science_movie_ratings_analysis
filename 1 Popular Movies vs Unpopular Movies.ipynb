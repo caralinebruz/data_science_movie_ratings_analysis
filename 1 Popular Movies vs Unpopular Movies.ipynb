{
 "cells": [
  {
   "cell_type": "code",
   "execution_count": 1,
   "id": "24770d55",
   "metadata": {},
   "outputs": [],
   "source": [
    "#!/usr/bin/env python3\n",
    "# -*- coding: utf-8 -*-\n",
    "\n",
    "# ### Analysis Project \n",
    "# \n",
    "# ### 2022-11-2\n",
    "\n",
    "# ### Statistical significance tests on movie ratings data\n",
    "                    \n",
    "# We acknowledge any outcome could be due to\n",
    "# chance. Our only question is how likely that is by chance. If it is\n",
    "# implausibly unlikely, we reject the assumption that it was just due to\n",
    "# chance. And either the null hypothesis is true or not, so if we reject it\n",
    "# is plausible, it probably means that our treatment did have an effect.                  \n",
    "                    \n",
    "#%% Before we do the stats, let's talk about the psychology of movie ratings:\n",
    "    \n",
    "# Hypothesis 1: There is no difference in the distribution of ratings between the two movies.\n",
    "\n",
    "# Hypothesis 2: Distribution of ratings for one of the movies will be different from the other.\n",
    "\n",
    "# Make sure that you actually have 2 plausible outcomes before doing the\n",
    "# study. If the outcome is a foregone conclusion, it's not science. Science\n",
    "# is about being open to any possible outcome.\n",
    "\n",
    "# Null hypothesis: There is no difference. \n",
    "\n",
    "# Let's implement the canonical data analysis cascade\n",
    "\n",
    "\n",
    "\n",
    "# b. Load/import - libraries/packages:\n",
    "\n",
    "import pandas as pd\n",
    "import numpy as np\n",
    "from scipy import stats, special\n",
    "import matplotlib.pyplot as plt\n",
    "import seaborn as sns\n"
   ]
  },
  {
   "cell_type": "markdown",
   "id": "88bf510d",
   "metadata": {},
   "source": [
    "# Let me walk you through the null hypothesistesting framework at least once (just once). It is a bit arcane. It madesense to Fisher.         \n",
    "\n",
    "### 1) Start with a hypothesis (something about the world you would wish toknow, whether it is true or not). \n",
    "\n",
    "### 2) State a null hypothesis and assume that it is 100% true (that there is no difference in the conditions of 1), e.g. here Matrix I rated the sameas Matrix II and III). This is essential to NHST. \n",
    "\n",
    "### 3) This is - at the face of it - an odd thing to do, because naively you would think that scientists look for probability (Hypothesis | Data) But that is unknowable. Which is why we do the study in the first place. What is calculable: Probability (Data | NULL hypothesis)You can assess the probability of the data given the null hypothesis\n",
    "\n",
    "### 4) To get this probability, we represent the sample by a parameter like a sample mean, then transform the sample mean into a test statistic with a known distribution.\n",
    "\n",
    "### 5) The area under the curve of the distribution of the test statistic in the tail (or tails, if it is a 2-tailed test) is the p value, in otherwords the probability of this result (or a more extreme one) given chancealone.\n",
    "\n",
    "### 6) We compare the p value to a significance level alpha (typically 5% or 1%)\n",
    "\n",
    "### 7) Decision point (Choice)\n",
    "### a) If it is smaller than that, we decide to reject our assumption that the null hypothesis is true.\n",
    "### b) If it is not smaller than that, we don't do anything because we alreadyassumed that the null hypothesis is true.                    "
   ]
  },
  {
   "cell_type": "code",
   "execution_count": 2,
   "id": "926ae2b5",
   "metadata": {
    "scrolled": true
   },
   "outputs": [
    {
     "name": "stdout",
     "output_type": "stream",
     "text": [
      "The Life of David Gale (2003)\n",
      "Wing Commander (1999)\n",
      "Django Unchained (2012)\n",
      "Alien (1979)\n",
      "Indiana Jones and the Last Crusade (1989)\n",
      "Snatch (2000)\n",
      "Rambo: First Blood Part II (1985)\n",
      "Fargo (1996)\n",
      "Let the Right One In (2008)\n",
      "Black Swan (2010)\n",
      "King Kong (1976)\n",
      "The Machinist (2004)\n",
      "A Nightmare on Elm Street (1984)\n",
      "Brazil (1985)\n",
      "The Fast and the Furious (2001)\n",
      "Change of Habit (1969)\n",
      "American Beauty (1999)\n",
      "Psycho (1960)\n",
      "Terminator 3: Rise of the Machines (2003)\n",
      "Night of the Living Dead (1968)\n",
      "Man on Fire (2004)\n",
      "Star Wars: Episode IV - A New Hope (1977)\n",
      "The Silence of the Lambs (1991)\n",
      "The Others (2001)\n",
      "Minority Report (2002)\n",
      "Sling Blade (1996)\n",
      "Schindler's List (1993)\n",
      "3000 Miles to Graceland (2001)\n",
      "Magnolia (1999)\n",
      "The Karate Kid Part II (1986)\n",
      "Planet of the Apes (2001)\n",
      "The Godfather: Part II (1974)\n",
      "Indiana Jones and the Temple of Doom (1984)\n",
      "Indiana Jones and the Raiders of the Lost Ark (1981)\n",
      "The Iron Giant (1999)\n",
      "The Matrix Revolutions (2003)\n",
      "North (1994)\n",
      "The Lost World: Jurassic Park (1997)\n",
      "The Texas Chainsaw Massacre (1974)\n",
      "Taxi Driver (1976)\n",
      "Back to the Future (1985)\n",
      "13 Going on 30 (2004)\n",
      "Sorority Boys (2002)\n",
      "The Bridges of Madison County (1995)\n",
      "Billy Madison (1995)\n",
      "Chain Reaction (1996)\n",
      "Batman & Robin (1997)\n",
      "Jurassic Park III (2001)\n",
      "Platoon (1986)\n",
      "Signs (2002)\n",
      "Terms of Endearment (1983)\n",
      "Mission: Impossible II (2000)\n",
      "Lost in Translation (2003)\n",
      "Star Trek: The Motion Picture (1979)\n",
      "Inglorious Bastards (2009)\n",
      "Clueless (1995)\n",
      "The Omen (1976)\n",
      "Shrek 2 (2004)\n",
      "Good Will Hunting (1997)\n",
      "Just Like Heaven (2005)\n",
      "Showgirls (1995)\n",
      "Diamonds are Forever (1971)\n",
      "Crossroads (2002)\n",
      "Pieces of April (2003)\n",
      "Torque (2004)\n",
      "Poltergeist (1982)\n",
      "Fear and Loathing in Las Vegas (1998)\n",
      "Barbarella (1968)\n",
      "The King of Marvin Gardens (1972)\n",
      "The Poseidon Adventure (1972)\n",
      "The Rock (1996)\n",
      "Love Story (1970)\n",
      "The Last Samurai (2003)\n",
      "The Jungle Book (1967)\n",
      "The Exorcist (1973)\n",
      "Pirates of the Caribbean: Dead Man's Chest (2006)\n",
      "Gone in Sixty Seconds (2000)\n",
      "Funny Girl (1968)\n",
      "Honey (2003)\n",
      "Blues Brothers 2000 (1998)\n",
      "Avatar (2009)\n",
      "The Pianist (2002)\n",
      "Godzilla (1998)\n",
      "Fight Club (1999)\n",
      "The Conjuring (2013)\n",
      "Top Gun (1986)\n",
      "Slackers (2002)\n",
      "Shrek (2001)\n",
      "12 Monkeys (1995)\n",
      "From Hell (2001)\n",
      "Dead Poets Society (1989)\n",
      "Once Upon a Time in America (1984)\n",
      "Equilibrium (2002)\n",
      "Star Wars: Episode II - Attack of the Clones (2002)\n",
      "The Thing (1982)\n",
      "Interstellar (2014)\n",
      "Full Metal Jacket (1987)\n",
      "Big Fish (2003)\n",
      "Cool Hand Luke (1967)\n",
      "A Beautiful Mind (2001)\n",
      "Sholay (1978)\n",
      "The 51st State (2001)\n",
      "Die Hard With a Vengeance (1995)\n",
      "Elf (2003)\n",
      "The Blue Lagoon (1980)\n",
      "Hellraiser (1987)\n",
      "Moonraker (1979)\n",
      "Leon (1994)\n",
      "Mystic River (2003)\n",
      "Sexy Beast (2000)\n",
      "Beetle Juice (1988)\n",
      "Andaz Apna Apna (1994)\n",
      "The Proposal (2009)\n",
      "The Shining (1980)\n",
      "The Land That Time Forgot (1974)\n",
      "The Perfect Storm (2000)\n",
      "Escape from LA (1996)\n",
      "Shutter Island (2010)\n",
      "JFK (1991)\n",
      "Barb Wire (1996)\n",
      "Oldboy (2003)\n",
      "Carrie (1976)\n",
      "The Good the Bad and the Ugly (1966)\n",
      "Speed 2: Cruise Control (1997)\n",
      "The Lord of the Rings: The Fellowship of the Ring (2001)\n",
      "The Talented Mr. Ripley (1999)\n",
      "Casino (1995)\n",
      "A Time to Kill (1996)\n",
      "Blazing Saddles (1974)\n",
      "The Doom Generation (1995)\n",
      "Armageddon (1998)\n",
      "X-Men (2000)\n",
      "Arachnophobia (1990)\n",
      "Stir Crazy (1980)\n",
      "Billy Jack (1971)\n",
      "The Silencers (1966)\n",
      "The Three Musketeers (1993)\n",
      "Girl Interrupted (1999)\n",
      "Finding Nemo (2003)\n",
      "Tropic of Cancer (1970)\n",
      "The Sixth Sense (1999)\n",
      "I Know What You Did Last Summer (1997)\n",
      "Indiana Jones and the Kingdom of the Crystal Skull (2008)\n",
      "Divine Secrets of the Ya-Ya Sisterhood (2002)\n",
      "Ace Ventura: When Nature Calls (1995)\n",
      "Dances with Wolves (1990)\n",
      "Date and Switch (2014)\n",
      "The Intouchables (2011)\n",
      "Mrs. Doubtfire (1993)\n",
      "Ghostbusters (2016)\n",
      "Almost Famous (2000)\n",
      "Blade Runner (1982)\n",
      "Unforgiven (1992)\n",
      "Rosemary's Baby (1968)\n",
      "Cheaper by the Dozen (2003)\n",
      "Can't Hardly Wait (1998)\n",
      "Die Another Day (2002)\n",
      "Toy Story 2 (1999)\n",
      "Transformers: Age of Extinction (2014)\n",
      "Like Stars on Earth (2007)\n",
      "Terminator 2: Judgement Day (1991)\n",
      "25th Hour (2002)\n",
      "Who's Afraid of Virginia Woolf (1966)\n",
      "Adaption (2002)\n",
      "Life is Beautiful (1997)\n",
      "Room (2015)\n",
      "Scream (1996)\n",
      "The Evil Dead (1981)\n",
      "Gangs of New York (2002)\n",
      "Stand By Me (1986)\n",
      "The Vow (2012)\n",
      "Toy Story 3 (2010)\n",
      "The Matrix Reloaded (2003)\n",
      "Once Upon a Time in the West (1968)\n",
      "Star Wars: Episode V - The Empire Strikes Back (1980)\n",
      "War Games (1983)\n",
      "Kill Bill: Vol. 2 (2004)\n",
      "Saving Private Ryan (1998)\n",
      "Just Married (2003)\n",
      "Being John Malkovich (1999)\n",
      "Father's Day (1997)\n",
      "Batman (1989)\n",
      "Se7en (1995)\n",
      "Happy Gilmore (1996)\n",
      "My Big Fat Greek Wedding (2002)\n",
      "Boomerang (1992)\n",
      "The Avengers (2012)\n",
      "In America (2002)\n",
      "Tarzan (1999)\n",
      "Scent of a Woman (1992)\n",
      "The Cabin in the Woods (2012)\n",
      "Spider-Man (2002)\n",
      "Broken Arrow (1996)\n",
      "Baby Geniuses (1999)\n",
      "Battlefield Earth (2000)\n",
      "The Firm (1993)\n",
      "De-Lovely (2004)\n",
      "Die Hard (1988)\n",
      "The Lord of the Rings: The Two Towers (2002)\n",
      "The Blair Witch Project (1999)\n",
      "Judge Dredd (1995)\n",
      "10 Things I Hate About You (1999)\n",
      "The Insider (1999)\n",
      "Erik the Viking (1989)\n",
      "Pirates of the Caribbean: At World's End (2007)\n",
      "The Ring (2002)\n",
      "The Truman Show (1998)\n",
      "Forrest Gump (1994)\n",
      "I.Q. (1994)\n",
      "Goodfellas (1990)\n",
      "Uptown Girls (2003)\n",
      "Beauty and the Beauty (1991)\n",
      "Black Hawk Down (2001)\n",
      "Knight and Day (2010)\n",
      "The Shawshank Redemption (1994)\n",
      "Sleepy Hollow (1999)\n",
      "The Holiday (2006)\n",
      "Sixteen Candles (1984)\n",
      "10000 BC (2008)\n",
      "Austin Powers: The Spy Who Shagged Me (1999)\n",
      "The Lion King (1994)\n",
      "Child's Play (1988)\n",
      "Anger Management (2002)\n",
      "Angels in the Outfield (1994)\n",
      "Wild Wild West (1999)\n",
      "Split (2016)\n",
      "Bad Boys (1995)\n",
      "The Prestige (2006)\n",
      "American Graffiti (1973)\n",
      "Air Force One (1997)\n",
      "Harry Potter and the Sorcerer's Stone (2001)\n",
      "Close Encounters of the Third Kind (1977)\n",
      "Hollow Man (2000)\n",
      "Point Break (1991)\n",
      "I Robot (2004)\n",
      "Batman: The Dark Knight (2008)\n",
      "Ghost (1990)\n",
      "A Bug's Life (1998)\n",
      "American Pie (1999)\n",
      "Daredevil (2003)\n",
      "The Bandit (1996)\n",
      "Grease (1978)\n",
      "The Girl Next Door (2004)\n",
      "The Godfather (1972)\n",
      "Cloverfield (2008)\n",
      "Rush Hour 2 (2001)\n",
      "Bruce Almighty (2003)\n",
      "Girl With a Pearl Earring (2003)\n",
      "Grown Ups 2 (2013)\n",
      "Best Laid Plans (1999)\n",
      "Bram Stoker's Dracula (1992)\n",
      "Fahrenheit 9/11 (2004)\n",
      "Donnie Darko (2001)\n",
      "Bad Teacher (2011)\n",
      "Cable Guy (1996)\n",
      "Ice Age (2002)\n",
      "Misery (1990)\n",
      "8 Mile (2002)\n",
      "Harry Potter and the Deathly Hallows: Part 2 (2011)\n",
      "Ouija: Origin of Evil (2016)\n",
      "The Deer Hunter (1978)\n",
      "There's Something About Mary (1998)\n",
      "Zoolander (2001)\n",
      "The Core (2003)\n",
      "Spirited Away (2001)\n",
      "Rocky (1976)\n",
      "Traffic (2000)\n",
      "Monsters  Inc.(2001)\n",
      "Thoroughly Modern Millie (1967)\n",
      "Requiem for a Dream (2000)\n",
      "Downfall (2004)\n",
      "L.A. Confidential (1997)\n",
      "Chicago (2002)\n",
      "Star Wars: Episode 1 - The Phantom Menace (1999)\n",
      "Rain Man (1988)\n",
      "What Lies Beneath (2000)\n",
      "Toy Story (1995)\n",
      "Boy's Don't Cry (1999)\n",
      "Pearl Harbor (2001)\n",
      "A.I. Artificial Intelligence (2001)\n",
      "The Sting (1973)\n",
      "Scream 3 (2000)\n",
      "Congo (1995)\n",
      "Bowling For Columbine (2002)\n",
      "What Women Want (2000)\n",
      "Home Alone (1990)\n",
      "How the Grinch Stole Christmas (2000)\n",
      "The Straight Story (1999)\n",
      "The Hulk (2003)\n",
      "Gigli (2002)\n",
      "Rocky V (1991)\n",
      "The Visit (2015)\n",
      "Titanic (1997)\n",
      "A Clockwork Orange (1971)\n",
      "Charlie's Angels (2000)\n",
      "Friday the 13th Part III (1982)\n",
      "Hannibal (2001)\n",
      "Pulp Fiction (1994)\n",
      "Crimson Tide (1995)\n",
      "Blow (2001)\n",
      "Ran (1985)\n",
      "Mulholland Dr. (2001)\n",
      "Apocalypse Now (1979)\n",
      "Cinema Paradiso (1988)\n",
      "Double Jeopardy (1999)\n",
      "The Big Lebowski (1998)\n",
      "The Matrix (1999)\n",
      "The Lord of the Rings: The Return of the King (2003)\n",
      "Reservoir Dogs (1992)\n",
      "Heavy Traffic (1973)\n",
      "Memento (2000)\n",
      "Dogville (2003)\n",
      "American Psycho (2000)\n",
      "Kill Bill: Vol. 1 (2003)\n",
      "The Fugitive (1993)\n",
      "Bend it Like Beckham (2002)\n",
      "Austin Powers in Goldmember (2002)\n",
      "The Mummy Returns (2001)\n",
      "The Nightmare Before Christmas (1993)\n",
      "La La Land (2016)\n",
      "Flowers in the Attic (1987)\n",
      "28 Days Later (2002)\n",
      "The Princess Bride (1987)\n",
      "The Green Mile (1999)\n",
      "Predator (1987)\n",
      "A Night at the Roxbury (1998)\n",
      "Ed Wood (1994)\n",
      "Aliens (1986)\n",
      "Meet the Parents (2000)\n",
      "Independence Day (1996)\n",
      "Who Framed Roger Rabbit (1988)\n",
      "As Good as it Gets (1997)\n",
      "Butch Cassidy and the Sundance Kid (1969)\n",
      "You're Next (2011)\n",
      "The Final Conflict (1981)\n",
      "City of God (2002)\n",
      "Star Wars: Episode VII - The Force Awakens (2015)\n",
      "The Transporter (2002)\n",
      "Cast Away (2000)\n",
      "Bad Boys 2 (2003)\n",
      "The Babadook (2014)\n",
      "Saw (2004)\n",
      "Star Wars: Episode VI - The Return of the Jedi (1983)\n",
      "Scary Movie (2000)\n",
      "E.T. The Extra-Terrestrial (1982)\n",
      "American History X (1998)\n",
      "FeardotCom (2002)\n",
      "Halloween (1978)\n",
      "Along Came a Spider (2002)\n",
      "The Mist (2007)\n",
      "Aladdin (1992)\n",
      "Pirates of the Caribbean: The Curse of the Black Pearl (2003)\n",
      "Men in Black (1997)\n",
      "Eternal Sunshine of the Spotless Mind (2004)\n",
      "Ocean's Eleven (2001)\n",
      "Men in Black II (2002)\n",
      "Cocktail (1988)\n",
      "The Wolf of Wall Street (2013)\n",
      "The Game (1997)\n",
      "Red Sonja (1985)\n",
      "One Flew Over the Cuckoo's Nest (1975)\n",
      "Freddy Got Fingered (2001)\n",
      "The Village (2004)\n",
      "Miller's Crossing (1990)\n",
      "My Best Friend's Wedding (1997)\n",
      "Iron Man 3 (2013)\n",
      "Big Daddy (1999)\n",
      "Suspiria (1977)\n",
      "The Passenger (1975)\n",
      "The Station Agent (2003)\n",
      "Jurassic Park (1993)\n",
      "Captain America: Civil War (2016)\n",
      "A Perfect Murder (1998)\n",
      "Analyze That (2002)\n",
      "Braveheart (1995)\n",
      "Inception (2010)\n",
      "Groundhog Day (1993)\n",
      "The Lookout (2007)\n",
      "21 Grams (2003)\n",
      "Gladiator (2000)\n",
      "Midnight Cowboy (1969)\n",
      "Fatal Attraction (1987)\n",
      "House of Sand and Fog (2003)\n",
      "On Golden Pond (1981)\n",
      "The Mummy (1999)\n",
      "The Descent (2005)\n",
      "Runaway Bride (1999)\n",
      "Harry Potter and the Goblet of Fire (2005)\n",
      "Gods and Generals (2003)\n",
      "My Father and My Son (2005)\n",
      "X-Men 2 (2003)\n",
      "The Usual Suspects (1995)\n",
      "The Mask (1994)\n",
      "Jaws (1975)\n",
      "Harry Potter and the Chamber of Secrets (2002)\n",
      "Patton (1970)\n",
      "Anaconda (1997)\n",
      "Twister (1996)\n",
      "MacArthur (1977)\n",
      "Look Who's Talking (1989)\n",
      "[54, 55, 56, 56, 59, 59, 60, 60, 60, 60, 61, 61, 61, 62, 62, 63, 63, 63, 64, 64, 65, 65, 65, 65, 66, 66, 66, 66, 66, 67, 67, 68, 68, 68, 69, 69, 70, 70, 71, 71, 71, 72, 72, 72, 72, 73, 74, 74, 74, 75, 75, 76, 76, 76, 76, 77, 77, 77, 78, 78, 79, 80, 80, 80, 80, 81, 82, 82, 82, 84, 85, 85, 85, 85, 86, 86, 87, 87, 88, 88, 88, 89, 89, 89, 89, 90, 90, 91, 93, 94, 94, 95, 95, 95, 96, 96, 96, 97, 97, 100, 100, 100, 101, 102, 102, 103, 103, 104, 105, 105, 107, 108, 108, 109, 110, 111, 113, 113, 113, 113, 114, 114, 116, 117, 118, 118, 119, 119, 120, 123, 123, 124, 124, 124, 126, 127, 127, 128, 129, 129, 136, 137, 137, 138, 138, 138, 140, 140, 141, 141, 142, 143, 143, 143, 144, 145, 145, 145, 147, 147, 149, 151, 152, 155, 159, 161, 161, 162, 162, 165, 167, 168, 168, 169, 170, 172, 173, 173, 174, 174, 176, 177, 178, 180, 180, 181, 182, 184, 185, 187, 188, 188, 189, 192, 192, 193, 193, 196, 197, 197, 198, 201, 202, 202, 203, 204, 205, 206, 207, 207, 212, 212, 213, 214, 215, 219, 220, 221, 221, 222, 223, 224, 226, 230, 232, 233, 235, 236, 236, 236, 241, 243, 243, 246, 249, 254, 261, 261, 266, 267, 267, 267, 267, 276, 283, 283, 283, 287, 289, 294, 298, 299, 300, 300, 301, 301, 308, 308, 308, 313, 318, 319, 325, 327, 327, 328, 333, 334, 336, 337, 341, 345, 348, 351, 355, 355, 356, 356, 357, 357, 361, 364, 366, 370, 373, 374, 375, 380, 382, 384, 389, 392, 393, 398, 398, 399, 400, 400, 403, 404, 404, 411, 416, 428, 428, 433, 433, 435, 439, 445, 447, 448, 450, 453, 453, 453, 455, 458, 460, 462, 463, 465, 468, 475, 477, 478, 481, 485, 485, 487, 489, 491, 493, 494, 496, 497, 500, 501, 505, 508, 509, 515, 516, 532, 533, 535, 536, 538, 542, 544, 546, 558, 561, 561, 561, 566, 569, 572, 582, 586, 588, 599, 606, 609, 645, 652, 656, 658, 661, 667, 671, 686, 688, 716, 726, 741, 745, 763, 763, 783, 786, 810, 813, 814, 830, 838, 846, 857, 870, 871, 878, 880, 908, 914, 926, 927, 937, 965, 1008, 1014]\n",
      "197.5\n"
     ]
    }
   ],
   "source": [
    "import re\n",
    "import statistics\n",
    "\n",
    "# find the median number of reviews per movie\n",
    "# i need to find the count of NaNs per movie, so a median split of that.\n",
    "\n",
    "df = pd.read_csv('movieReplicationSet.csv')\n",
    "\n",
    "df.columns[1] # wing commander, we need to index at 0\n",
    "df.columns[399] # Look Whos Talking, the final movie col\n",
    "\n",
    "max_index = 400\n",
    "\n",
    "array_ratings_popularity = []\n",
    "for x in range(400):\n",
    "    \n",
    "    title = df.columns[x]\n",
    "    print(title)\n",
    "    M_0 = df[title]\n",
    "    M_1 = M_0[np.isfinite(M_0)]\n",
    "    \n",
    "    # print(\"title: %s len: %s num_ratings: %s \" % (title, len(M_0), len(M_1)) )\n",
    "    array_ratings_popularity.append(len(M_1))\n",
    "    \n",
    "    \n",
    "\n",
    "array_ratings_popularity.sort()\n",
    "the_median = statistics.median(array_ratings_popularity)\n",
    "\n",
    "# print the median number of reviews per movie\n",
    "\n",
    "print(array_ratings_popularity)\n",
    "print(the_median)\n",
    "\n",
    "#cray, 198 is the median number of reviews per movie\n"
   ]
  },
  {
   "cell_type": "code",
   "execution_count": 3,
   "id": "5742617e",
   "metadata": {},
   "outputs": [
    {
     "data": {
      "text/plain": [
       "0"
      ]
     },
     "execution_count": 3,
     "metadata": {},
     "output_type": "execute_result"
    }
   ],
   "source": [
    "# now, go through all the movies again, but put them into groups, \n",
    "# one for unpopular and one for popular, and one for median .\n",
    "\n",
    "unpopular_movies = []\n",
    "median_movies = []\n",
    "popular_movies = []\n",
    "\n",
    "for x in range(400):\n",
    "    \n",
    "    title = df.columns[x]\n",
    "    M_0 = df[title]\n",
    "    M_1 = M_0[np.isfinite(M_0)]\n",
    "    num_ratings_this_movie = len(M_1)\n",
    "\n",
    "    \n",
    "    if num_ratings_this_movie == the_median:\n",
    "        median_movies.append(title)\n",
    "        \n",
    "    elif num_ratings_this_movie > the_median:\n",
    "        popular_movies.append(title)\n",
    "        \n",
    "    elif num_ratings_this_movie < the_median:\n",
    "        unpopular_movies.append(title)\n",
    "      \n",
    "    \n",
    "len(median_movies)\n"
   ]
  },
  {
   "cell_type": "code",
   "execution_count": 4,
   "id": "68b9cafb",
   "metadata": {},
   "outputs": [
    {
     "name": "stdout",
     "output_type": "stream",
     "text": [
      "len unpopular movies 200, and number of popular movies 200\n"
     ]
    }
   ],
   "source": [
    "print(\"len unpopular movies %s, and number of popular movies %s\" % (len(unpopular_movies), len(popular_movies)))\n"
   ]
  },
  {
   "cell_type": "markdown",
   "id": "923dbdc7",
   "metadata": {},
   "source": [
    "## 1. Loader / Transducer: Taking the inputs from their native form and putting it into something Python can use: a matrix"
   ]
  },
  {
   "cell_type": "code",
   "execution_count": 5,
   "id": "f1ffd83f",
   "metadata": {},
   "outputs": [],
   "source": [
    "data_df = pd.read_csv('movieReplicationSet.csv')\n",
    "\n",
    "\n",
    "# aggregate less popular movies ratings\n",
    "unpopular_movie_ratings = []\n",
    "for title in unpopular_movies: \n",
    "#     print(title)\n",
    "    test = data_df[title].values.tolist()\n",
    "    unpopular_movie_ratings.extend(test)\n",
    "\n",
    "    \n",
    "M1 = np.array(unpopular_movie_ratings)\n",
    "\n",
    "\n",
    "\n",
    "# aggregate popular movies ratings\n",
    "popular_movie_ratings = []\n",
    "for title in popular_movies: \n",
    "\n",
    "    test = data_df[title].values.tolist()\n",
    "    popular_movie_ratings.extend(test)\n",
    "\n",
    "\n",
    "M2 = np.array(popular_movie_ratings)\n",
    "\n",
    "\n",
    "\n"
   ]
  },
  {
   "cell_type": "code",
   "execution_count": 6,
   "id": "71c05298",
   "metadata": {},
   "outputs": [
    {
     "data": {
      "text/plain": [
       "array([nan, nan, nan, ..., nan, nan, nan])"
      ]
     },
     "execution_count": 6,
     "metadata": {},
     "output_type": "execute_result"
    }
   ],
   "source": [
    "M1"
   ]
  },
  {
   "cell_type": "code",
   "execution_count": 7,
   "id": "440d94c2",
   "metadata": {},
   "outputs": [
    {
     "data": {
      "text/plain": [
       "array([4. , 1.5, nan, ..., nan, nan, nan])"
      ]
     },
     "execution_count": 7,
     "metadata": {},
     "output_type": "execute_result"
    }
   ],
   "source": [
    "M2"
   ]
  },
  {
   "cell_type": "code",
   "execution_count": 8,
   "id": "0c1db55e",
   "metadata": {},
   "outputs": [
    {
     "data": {
      "text/plain": [
       "219400"
      ]
     },
     "execution_count": 8,
     "metadata": {},
     "output_type": "execute_result"
    }
   ],
   "source": [
    "len(M1)"
   ]
  },
  {
   "cell_type": "code",
   "execution_count": 9,
   "id": "6ade4657",
   "metadata": {},
   "outputs": [
    {
     "data": {
      "text/plain": [
       "219400"
      ]
     },
     "execution_count": 9,
     "metadata": {},
     "output_type": "execute_result"
    }
   ],
   "source": [
    "len(M2)"
   ]
  },
  {
   "cell_type": "markdown",
   "id": "9f948f61",
   "metadata": {},
   "source": [
    "## 2. \"Thalamus\" stage: We need to get rid of \"bad\" data. "
   ]
  },
  {
   "cell_type": "code",
   "execution_count": null,
   "id": "9e7a78c9",
   "metadata": {},
   "outputs": [],
   "source": []
  },
  {
   "cell_type": "markdown",
   "id": "02df8538",
   "metadata": {},
   "source": [
    "### This is not data we don't like the results of.  It's data that if it entered the analysis stream would ruin our analysis. By visual inspection, the matrix of movie ratings contains numbers from 1 to 4, representing \"star ratings\", and \"nans\".  What could the nans be? What do they mean? It could be people not doing the task. There are many ways to detect this. People who press buttons not in the instructions, people responding too fast, people responding too slow. "
   ]
  },
  {
   "cell_type": "markdown",
   "id": "68848e5d",
   "metadata": {},
   "source": [
    "### Why might \"too slow\" be a problem? In one study, we were interested in reaction time as a dependent variable. But once, a participant went to the restroom in the middle of the experiment and didn't come back for 30 minutes. What would happen to the mean reaction time for the condition that the trial was in, in which this participant used the restroom. If we included this, it would be meaningless. The mean is sensitive to outliers. The rest of the reactions are in milli-seconds. This is 4 orders of magnitude higher. Another example from neuroscience: Voltages of electrodes are usually in mV or microV (depending on eeg vs. microelectrode). What if for one trial there was voltage surge that hit the building - all measurements from that trial are invalid. You need to exclude that BEFORE looking at the results. All results will be thrown off by that."
   ]
  },
  {
   "cell_type": "markdown",
   "id": "eb872c4e",
   "metadata": {},
   "source": [
    "### Given that these are movie ratings, it is not implausible that most of these nans represent missing data due to the participant did not watch the movie in question. The reason we have to deal with this is that once this data is in the analysis stream, it will make the rest of the interpretation hard. If there is a single nan in the data, we can't take the mean.  So \"filtering\" or removing of ill-formed data will mean \"removal of missing data\" in this case.\n",
    "\n",
    "## But here is the catch: Remove them how?\n",
    "\n",
    "### There are at least 3 ways to handle this, and depending on how we do this, it will set up the entire rest of the analysis (and what it means). \n",
    "\n",
    "## 1. Element-wise removal of nans\n",
    "### We remove nans from each data matrix where we find it. But we are starting with an equal n for each movie. 3204 rows in all 3 matrices. Once we start removing stuff element-wise, due to the fact that there are an unequal number of nans for each movie, this will result in unequal n, which will make some analyses impossible. Some analyses presume equal n. It could also introduce bias. If we remove people who have not seen the latter ones, but that was a choice (their choice), we would inflate the ratings artificially. \n",
    "\n",
    "## 2. Row-wise (participant-wise) removal of nans\n",
    "### If a participant has not seen even one of the movies, we remove all of the data from this participant. Good: We keep n the same. Bad: We will lose a lot of data. Probably most of the data. This usually looks suspicious, also: Loss of statistical power. \n",
    "\n",
    "## 3. Imputation \n",
    "### We replace the missing data with our guess of what the rating would have been, if there had been a rating. This is more commonly done in engineering than in science.  Sometimes, people replace the missing value with the mean. But which mean? The participant-wise mean or the movie-wise mean - or a blend of the two? We could do the average of the movie, but is that fair? Those people chose not to watch it - they were not randomly assigned to watch the movies. This suggests that their rating would have been lower than that average. But how much lower? 0? Probably too extreme. In science, data only comes from measurement"
   ]
  },
  {
   "cell_type": "markdown",
   "id": "20691112",
   "metadata": {},
   "source": [
    "### In real life, pick the option that makes the most sense for your theoretical approach, and just do that. For teaching purposes, we'll do all of them, just so you see how that plays out in real life."
   ]
  },
  {
   "cell_type": "code",
   "execution_count": 10,
   "id": "06ee8a88",
   "metadata": {},
   "outputs": [
    {
     "name": "stdout",
     "output_type": "stream",
     "text": [
      "elementwise removal:\n",
      "len M1 after removal: 22000\n",
      "len M2, popular movies after removal: 90214\n"
     ]
    }
   ],
   "source": [
    "# 1) Element-wise:\n",
    "\n",
    "# MOVIE :: 1024 - 381 NaNs\n",
    "# Focused 1-2\n",
    "# Distracted 4-5\n",
    "\n",
    "M1 = M1[np.isfinite(M1)]\n",
    "M2 = M2[np.isfinite(M2)]\n",
    "\n",
    "\n",
    "print(\"elementwise removal:\")\n",
    "print(\"len M1 after removal: %s\" % len(M1)) # 218,303 > 21,892\n",
    "print(\"len M2, popular movies after removal: %s\" % len(M2)) # 218,303 > 90,016\n",
    "\n",
    "# results have been decimated. lol."
   ]
  },
  {
   "cell_type": "code",
   "execution_count": 11,
   "id": "61cb0a93",
   "metadata": {},
   "outputs": [
    {
     "data": {
      "image/png": "[encoded data removed]",
      "text/plain": [
       "<Figure size 640x480 with 1 Axes>"
      ]
     },
     "metadata": {},
     "output_type": "display_data"
    }
   ],
   "source": [
    "# ELEMENTWISE MOVIE 1 VS MOVIE 2\n",
    "\n",
    "\n",
    "combinedData = np.transpose(np.array([M1,M2], dtype=object)) # array of arrays\n",
    "\n",
    "\n",
    "bins = 8\n",
    "\n",
    "\n",
    "sns.histplot(combinedData[1], bins=bins, color=\"yellow\", label=\"More Popular\")\n",
    "sns.histplot(combinedData[0], bins=bins, label=\"Less Popular\")\n",
    "\n",
    "\n",
    "\n",
    "plt.title('Histogram: Less vs More Popular Movies')\n",
    "plt.xlabel('rating')\n",
    "plt.ylabel('count of rating')\n",
    "plt.legend()\n",
    "plt.ylim([0, 50000])\n",
    "plt.show()"
   ]
  },
  {
   "cell_type": "code",
   "execution_count": 12,
   "id": "69884316",
   "metadata": {},
   "outputs": [
    {
     "data": {
      "image/png": "[encoded data removed]",
      "text/plain": [
       "<Figure size 640x480 with 1 Axes>"
      ]
     },
     "metadata": {},
     "output_type": "display_data"
    }
   ],
   "source": [
    "# ELEMENTWISE MOVIE 1 VS MOVIE 2\n",
    "\n",
    "\n",
    "combinedData = np.transpose(np.array([M1,M2], dtype=object)) # array of arrays\n",
    "\n",
    "\n",
    "bins = 8\n",
    "\n",
    "\n",
    "sns.histplot(combinedData[1], bins=bins, color=\"yellow\", label=\"More Popular\", stat=\"density\", common_norm=False,)\n",
    "sns.histplot(combinedData[0], bins=bins, label=\"Less Popular\", stat=\"density\", common_norm=False,)\n",
    "\n",
    "\n",
    "plt.title('Normalized Ratings distribution (Less vs More Popular)')\n",
    "plt.xlabel('rating')\n",
    "plt.ylabel('Density')\n",
    "plt.legend()\n",
    "plt.ylim([0, 1])\n",
    "plt.show()"
   ]
  },
  {
   "cell_type": "markdown",
   "id": "159b2225",
   "metadata": {},
   "source": [
    "### I took the records that came in over time by participant and broke them up, so they are now ordered by movie. I already abstracted over time. There is still something we can do that will make our life easier, which is to put this into a format we can loop over (to do all these tests). Why is the current format not great? M1 vs. M3, etc. is not great for that? Wouldn't it be better to have a matrix \"DATA\" that contains all 3 movies? It would be. Why can't it be a matrix now, given we removed missing data element-wise? Because n is unequal. So let's make it an array of arrays"
   ]
  },
  {
   "cell_type": "code",
   "execution_count": 13,
   "id": "3665f7be",
   "metadata": {},
   "outputs": [],
   "source": [
    "#%% 4a) Extrastriate cortex: Doing the actual specialized analyses\n",
    "# Descriptive statistics - we are looking for very special numbers that\n",
    "# capture the essence of the entire dataset - the typical number (central\n",
    "# tendency) and the dispersion. Typically mean and SD. \n",
    "\n",
    "numGroups = 2\n",
    "\n",
    "# Initialize container to store descriptives:\n",
    "descriptivesContainer = np.empty([numGroups,5])\n",
    "descriptivesContainer[:] = np.NaN \n",
    "\n",
    "# 1. Element-wise:\n",
    "for ii in range(numGroups):\n",
    "    descriptivesContainer[ii,0] = np.mean(combinedData[ii]) # mu\n",
    "    descriptivesContainer[ii,1] = np.std(combinedData[ii]) # sigma\n",
    "    descriptivesContainer[ii,2] = len(combinedData[ii]) # n\n",
    "    descriptivesContainer[ii,3] = descriptivesContainer[ii,1]/np.sqrt(descriptivesContainer[ii,2]) # sem\n",
    "    \n",
    "    #median\n",
    "    descriptivesContainer[ii,4] = np.median(combinedData[ii])"
   ]
  },
  {
   "cell_type": "code",
   "execution_count": 14,
   "id": "7bbfaedc",
   "metadata": {},
   "outputs": [
    {
     "data": {
      "text/plain": [
       "array([2.45061364e+00, 1.12970414e+00, 2.20000000e+04, 7.61646375e-03,\n",
       "       2.50000000e+00])"
      ]
     },
     "execution_count": 14,
     "metadata": {},
     "output_type": "execute_result"
    }
   ],
   "source": [
    "#%% 4b) Extrastriate cortex part II: Inferential statistics\n",
    "\n",
    "# MOVIE 1: check mean, std-dev, n?, SEM -> UNPOP\n",
    "descriptivesContainer[0]\n"
   ]
  },
  {
   "cell_type": "code",
   "execution_count": 15,
   "id": "d5ae2989",
   "metadata": {},
   "outputs": [
    {
     "data": {
      "text/plain": [
       "array([2.92347640e+00, 1.01553636e+00, 9.02140000e+04, 3.38110382e-03,\n",
       "       3.00000000e+00])"
      ]
     },
     "execution_count": 15,
     "metadata": {},
     "output_type": "execute_result"
    }
   ],
   "source": [
    "# MOVIE 2: check mean, std-dev, n?, SEM  -> MORE POP\n",
    "descriptivesContainer[1]"
   ]
  },
  {
   "cell_type": "code",
   "execution_count": 16,
   "id": "69bf8de2",
   "metadata": {},
   "outputs": [
    {
     "data": {
      "text/plain": [
       "(0.0, 4.0)"
      ]
     },
     "execution_count": 16,
     "metadata": {},
     "output_type": "execute_result"
    },
    {
     "data": {
      "image/png": "[encoded data removed]",
      "text/plain": [
       "<Figure size 640x480 with 1 Axes>"
      ]
     },
     "metadata": {},
     "output_type": "display_data"
    }
   ],
   "source": [
    "# First, lets plot our data \n",
    "# MEAN\n",
    "\n",
    "font = {'family': 'sans-serif',\n",
    "        'color':  'darkblue',\n",
    "        'weight': 'normal',\n",
    "        'size': 11,\n",
    "        }\n",
    "\n",
    "c = ['#79ccb3', '#92cad1']\n",
    "\n",
    "\n",
    "x = ['Old Movies', 'New Movies'] # labels for the bars\n",
    "plt.text(1,descriptivesContainer[0][0],descriptivesContainer[0][0], fontdict=font)\n",
    "plt.text(2,descriptivesContainer[1][0],descriptivesContainer[1][0], fontdict=font)\n",
    "xPos = np.array([1,2]) # x-values for the bars\n",
    "\n",
    "\n",
    "plt.bar(xPos,descriptivesContainer[:,0],width=0.5,yerr=descriptivesContainer[:,3], color=c) # bars + error  \n",
    "plt.xticks(xPos, x) # label the x_pos with the labels\n",
    "\n",
    "plt.title('MEAN ratings')\n",
    "plt.ylabel('Mean rating') # add y-label\n",
    "plt.ylim([0, 4])\n"
   ]
  },
  {
   "cell_type": "code",
   "execution_count": 17,
   "id": "ed5e3de4",
   "metadata": {
    "scrolled": true
   },
   "outputs": [
    {
     "data": {
      "text/plain": [
       "(0.0, 4.0)"
      ]
     },
     "execution_count": 17,
     "metadata": {},
     "output_type": "execute_result"
    },
    {
     "data": {
      "image/png": "[encoded data removed]",
      "text/plain": [
       "<Figure size 640x480 with 1 Axes>"
      ]
     },
     "metadata": {},
     "output_type": "display_data"
    }
   ],
   "source": [
    "# First, lets plot our data \n",
    "# MEDIANS\n",
    "\n",
    "font = {'family': 'sans-serif',\n",
    "        'color':  'darkblue',\n",
    "        'weight': 'normal',\n",
    "        'size': 11,\n",
    "        }\n",
    "\n",
    "c = ['#79ccb3', '#92cad1']\n",
    "\n",
    "\n",
    "x = ['Old Movies', 'New Movies'] # labels for the bars\n",
    "\n",
    "\n",
    "xPos = np.array([1,2]) # x-values for the bars\n",
    "\n",
    "# q = plt.bar(xPos,descriptivesContainer[:,0])\n",
    "# q.xticks(xPos, x) # label the x_pos with the labels\n",
    "# q.yticks(fontsize=22)\n",
    "# q.show()\n",
    "\n",
    "plt.text(1,descriptivesContainer[0][4],descriptivesContainer[0][4], fontdict=font)\n",
    "plt.text(2,descriptivesContainer[1][4],descriptivesContainer[1][4], fontdict=font)\n",
    "\n",
    "\n",
    "\n",
    "plt.bar(xPos,descriptivesContainer[:,4],width=0.5,yerr=descriptivesContainer[:,3], color=c) # bars + error  \n",
    "\n",
    "# plt.bar(xPos,descriptivesContainer[:,0])\n",
    "plt.xticks(xPos, x) # label the x_pos with the labels\n",
    "plt.yticks(fontsize=10)\n",
    "\n",
    "plt.title('MEDIAN ratings')\n",
    "plt.ylabel('Median rating') # add y-label\n",
    "plt.ylim([0, 4])\n",
    "\n",
    "\n",
    "\n"
   ]
  },
  {
   "cell_type": "code",
   "execution_count": 18,
   "id": "43af2d23",
   "metadata": {},
   "outputs": [
    {
     "data": {
      "text/plain": [
       "2.5"
      ]
     },
     "execution_count": 18,
     "metadata": {},
     "output_type": "execute_result"
    }
   ],
   "source": [
    "# medians i did manually:\n",
    "\n",
    "median_less_popular = np.median(combinedData[0])\n",
    "\n",
    "median_less_popular"
   ]
  },
  {
   "cell_type": "code",
   "execution_count": 19,
   "id": "9ee22ba4",
   "metadata": {},
   "outputs": [
    {
     "data": {
      "text/plain": [
       "3.0"
      ]
     },
     "execution_count": 19,
     "metadata": {},
     "output_type": "execute_result"
    }
   ],
   "source": [
    "# medians i did manually:\n",
    "\n",
    "median_more_popular = np.median(combinedData[1])\n",
    "\n",
    "median_more_popular"
   ]
  },
  {
   "cell_type": "code",
   "execution_count": null,
   "id": "d8963764",
   "metadata": {},
   "outputs": [],
   "source": []
  },
  {
   "cell_type": "code",
   "execution_count": 20,
   "id": "ee493d73",
   "metadata": {},
   "outputs": [
    {
     "name": "stdout",
     "output_type": "stream",
     "text": [
      "u1:741899855.5 p1:0.0\n"
     ]
    }
   ],
   "source": [
    "# lets try mannwhitney u between each group\n",
    "# Nonparametric tests equivalent to t-tests - Mann-Whitney U test:\n",
    "# Test for comparing medians of ordinal data (such as movie ratings)\n",
    "# from 2 groups\n",
    "u1,p1 = stats.mannwhitneyu(combinedData[0],combinedData[1])\n",
    "# u2,p2 = stats.mannwhitneyu(combinedData[0],combinedData[2])\n",
    "# u3,p3 = stats.mannwhitneyu(combinedData[1],combinedData[2])\n",
    "\n",
    "print(\"u1:%s p1:%s\" % (u1,p1))\n",
    "# print(\"u2:%s p2:%s\" % (u2,p2))\n",
    "# print(\"u3:%s p3:%s\" % (u3,p3))"
   ]
  },
  {
   "cell_type": "markdown",
   "id": "bcb56edd",
   "metadata": {},
   "source": [
    "### So far, they look they will be different. The mean rating of movie 1 (Home Alone) is lower than that of Finding Nemo.  The question here is whether the differences we saw in the descriptives - usually the means - are \"statistically significant\".  Whether it is plausibly consistent with chance (that the numbers came out of a RGN)"
   ]
  },
  {
   "cell_type": "markdown",
   "id": "dcfc3d5a",
   "metadata": {},
   "source": [
    "### 1) Assert a null hypothesis: We assume that the data came out of a RNG - strictly by chance.\n",
    "\n",
    "### 2) We compute the probability that this is the case - assuming chance. \n",
    "\n",
    "### 3) If this probability is implausibly low, we DECIDE to concede that we were wrong in 1) - that it is probably not solely due to chance. "
   ]
  },
  {
   "cell_type": "markdown",
   "id": "a328a8fe",
   "metadata": {},
   "source": [
    "### It's a choice, it's a decision. You have not falsified the null hypothesis or \"proven\" to be wrong. We made a choice that it is implausible. But we could be wrong (type I and type II errors). "
   ]
  },
  {
   "cell_type": "markdown",
   "id": "4ce423d9",
   "metadata": {},
   "source": [
    "### In science, we consider things that happen only 1 in 20 times to be \"too implausible\" to be consistent with chance. This corresponds to getting heads (or tails) 5 times in a row (if you flip coins). Is that terribly implausible? There is now a movement afoot to lower this to 1 in 200. To avoid false positives. So results won't reproduce. This gave p values a bad reputation. But there is nothing wrong with them, if they are understood and used properly. Properly = conservative enough criterion of implausibility and high enough power. "
   ]
  },
  {
   "cell_type": "markdown",
   "id": "d776819e",
   "metadata": {},
   "source": [
    "### So our question now is: Assuming that there is no difference in reality, howlikely is it to get this mean difference just by chance (sampling error). Analogy: We are doing a crime scene investigation. Null hypothesis is thepresumption of innocence. We only reject that presumption if forced by thedata (in other words, if the evidence suggests that the fingerprints, DNA,etc.) of the suspect didn't just get there by chance. It is always possible. The unreasonable doubt (that your evidence got there just bychance always persists).  \n",
    "\n",
    "\n",
    "Please keep in mind it does not make sense to do a t-test because this is ordinal data and it doesnt make sense to reduce the dataset to a mean.\n"
   ]
  },
  {
   "cell_type": "code",
   "execution_count": 21,
   "id": "49eb8a05",
   "metadata": {},
   "outputs": [],
   "source": [
    "# # 1. Element-wise:\n",
    "# t1,p1 = stats.ttest_ind(combinedData[0],combinedData[1])"
   ]
  },
  {
   "cell_type": "code",
   "execution_count": 22,
   "id": "9ed9217a",
   "metadata": {},
   "outputs": [],
   "source": [
    "# t1"
   ]
  },
  {
   "cell_type": "code",
   "execution_count": 23,
   "id": "f9a21b0d",
   "metadata": {},
   "outputs": [],
   "source": [
    "# p1"
   ]
  },
  {
   "cell_type": "markdown",
   "id": "21069370",
   "metadata": {},
   "source": [
    "### P-value is too high to be considered significant, try a more appropriate test."
   ]
  },
  {
   "cell_type": "code",
   "execution_count": 24,
   "id": "3111e4b0",
   "metadata": {},
   "outputs": [],
   "source": [
    "# Nonparametric tests equivalent to t-tests - Mann-Whitney U test:\n",
    "# Test for comparing medians of ordinal data (such as movie ratings)\n",
    "# from 2 groups\n",
    "u1,p1 = stats.mannwhitneyu(combinedData[0],combinedData[1])"
   ]
  },
  {
   "cell_type": "code",
   "execution_count": 25,
   "id": "7f1cc65d",
   "metadata": {},
   "outputs": [
    {
     "data": {
      "text/plain": [
       "741899855.5"
      ]
     },
     "execution_count": 25,
     "metadata": {},
     "output_type": "execute_result"
    }
   ],
   "source": [
    "u1"
   ]
  },
  {
   "cell_type": "code",
   "execution_count": 26,
   "id": "63ec12e9",
   "metadata": {},
   "outputs": [
    {
     "data": {
      "text/plain": [
       "0.0"
      ]
     },
     "execution_count": 26,
     "metadata": {},
     "output_type": "execute_result"
    }
   ],
   "source": [
    "p1"
   ]
  },
  {
   "cell_type": "code",
   "execution_count": 27,
   "id": "45bccb07",
   "metadata": {},
   "outputs": [],
   "source": [
    "### also do a KS test to be sure"
   ]
  },
  {
   "cell_type": "code",
   "execution_count": 28,
   "id": "a08d620d",
   "metadata": {},
   "outputs": [
    {
     "data": {
      "text/plain": [
       "KstestResult(statistic=0.1944211571677043, pvalue=0.0)"
      ]
     },
     "execution_count": 28,
     "metadata": {},
     "output_type": "execute_result"
    }
   ],
   "source": [
    "# test 2 samples kstest\n",
    "stats.ks_2samp(combinedData[0],combinedData[1])"
   ]
  },
  {
   "cell_type": "code",
   "execution_count": null,
   "id": "51536d0c",
   "metadata": {},
   "outputs": [],
   "source": []
  },
  {
   "cell_type": "code",
   "execution_count": null,
   "id": "9773147a",
   "metadata": {},
   "outputs": [],
   "source": []
  }
 ],
 "metadata": {
  "kernelspec": {
   "display_name": "Python 3 (ipykernel)",
   "language": "python",
   "name": "python3"
  },
  "language_info": {
   "codemirror_mode": {
    "name": "ipython",
    "version": 3
   },
   "file_extension": ".py",
   "mimetype": "text/x-python",
   "name": "python",
   "nbconvert_exporter": "python",
   "pygments_lexer": "ipython3",
   "version": "3.9.13"
  }
 },
 "nbformat": 4,
 "nbformat_minor": 5
}
